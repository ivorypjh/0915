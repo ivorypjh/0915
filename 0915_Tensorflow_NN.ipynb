{
  "nbformat": 4,
  "nbformat_minor": 0,
  "metadata": {
    "colab": {
      "provenance": []
    },
    "kernelspec": {
      "name": "python3",
      "display_name": "Python 3"
    },
    "language_info": {
      "name": "python"
    }
  },
  "cells": [
    {
      "cell_type": "code",
      "execution_count": 1,
      "metadata": {
        "colab": {
          "base_uri": "https://localhost:8080/"
        },
        "id": "hGh86JA7KJM8",
        "outputId": "b8c3ec47-2af0-4d94-fc76-983b279b900c"
      },
      "outputs": [
        {
          "output_type": "stream",
          "name": "stdout",
          "text": [
            "2.13.0\n"
          ]
        }
      ],
      "source": [
        "import sys\n",
        "\n",
        "# sklearn ≥0.20 필수\n",
        "import sklearn\n",
        "\n",
        "# 공통 모듈 임포트\n",
        "import numpy as np\n",
        "import pandas as pd\n",
        "import os\n",
        "\n",
        "# 노트북 실행 결과를 동일하게 유지하기 위해\n",
        "np.random.seed(21)\n",
        "\n",
        "# 깔끔한 그래프 출력을 위해\n",
        "%matplotlib inline\n",
        "\n",
        "import matplotlib as mpl\n",
        "import matplotlib.pyplot as plt\n",
        "\n",
        "mpl.rc('axes', labelsize=14)\n",
        "mpl.rc('xtick', labelsize=12)\n",
        "mpl.rc('ytick', labelsize=12)\n",
        "\n",
        "import platform\n",
        "from matplotlib import font_manager, rc\n",
        "\n",
        "# 매킨토시의 경우\n",
        "if platform.system() == 'Darwin':\n",
        "  rc('font', family='AppleGothic')\n",
        "# 윈도우의 경우\n",
        "elif platform.system() == 'Windows':\n",
        "  font_name = font_manager.FontProperties(fname=\"c:/Windows/Fonts/malgun.ttf\").get_name()\n",
        "  rc('font', family=font_name)\n",
        "  mpl.rcParams['axes.unicode_minus'] = False\n",
        "\n",
        "# 그림을 저장할 위치\n",
        "PROJECT_ROOT_DIR = \".\"\n",
        "CHAPTER_ID = \"keras_multilayer_perceptron\"\n",
        "IMAGES_PATH = os.path.join(PROJECT_ROOT_DIR, \"images\", CHAPTER_ID)\n",
        "os.makedirs(IMAGES_PATH, exist_ok=True)\n",
        "def save_fig(fig_id, tight_layout=True, fig_extension=\"png\", resolution=300):\n",
        "  path = os.path.join(IMAGES_PATH, fig_id + \".\" + fig_extension)\n",
        "  print(\"그림 저장:\", fig_id)\n",
        "  if tight_layout:\n",
        "    plt.tight_layout()\n",
        "  plt.savefig(path, format=fig_extension, dpi=resolution)\n",
        "\n",
        "import warnings\n",
        "warnings.filterwarnings(action='ignore')\n",
        "\n",
        "import tensorflow as tf\n",
        "from tensorflow import keras\n",
        "print(tf.__version__)"
      ]
    },
    {
      "cell_type": "markdown",
      "source": [
        "# Sequential API를 이용한 패션 이미지 분류기 만들기"
      ],
      "metadata": {
        "id": "bkq8fVE3LIla"
      }
    },
    {
      "cell_type": "markdown",
      "source": [
        "## Fashion mnist 데이터 가져오기\n"
      ],
      "metadata": {
        "id": "eHLRGyM7LKti"
      }
    },
    {
      "cell_type": "code",
      "source": [
        "fashion_mnist = keras.datasets.fashion_mnist\n",
        "(X_train_full, y_train_full), (X_test, y_test) = fashion_mnist.load_data()"
      ],
      "metadata": {
        "colab": {
          "base_uri": "https://localhost:8080/"
        },
        "id": "gxiMhjOfKKts",
        "outputId": "26f0b3f9-b348-44eb-f0e5-27c909ebb4e0"
      },
      "execution_count": 2,
      "outputs": [
        {
          "output_type": "stream",
          "name": "stdout",
          "text": [
            "Downloading data from https://storage.googleapis.com/tensorflow/tf-keras-datasets/train-labels-idx1-ubyte.gz\n",
            "29515/29515 [==============================] - 0s 0us/step\n",
            "Downloading data from https://storage.googleapis.com/tensorflow/tf-keras-datasets/train-images-idx3-ubyte.gz\n",
            "26421880/26421880 [==============================] - 0s 0us/step\n",
            "Downloading data from https://storage.googleapis.com/tensorflow/tf-keras-datasets/t10k-labels-idx1-ubyte.gz\n",
            "5148/5148 [==============================] - 0s 0us/step\n",
            "Downloading data from https://storage.googleapis.com/tensorflow/tf-keras-datasets/t10k-images-idx3-ubyte.gz\n",
            "4422102/4422102 [==============================] - 0s 0us/step\n"
          ]
        }
      ]
    },
    {
      "cell_type": "code",
      "source": [
        "# 데이터 확인\n",
        "print(X_train_full.shape) # 데이터 60000개, 2차원 흑백 이미지\n",
        "print(type(X_train_full)) # numpy.ndarray"
      ],
      "metadata": {
        "colab": {
          "base_uri": "https://localhost:8080/"
        },
        "id": "KoOTnVhMKKzX",
        "outputId": "844c11ef-9f12-4ed4-b14a-34c333d7e182"
      },
      "execution_count": 3,
      "outputs": [
        {
          "output_type": "stream",
          "name": "stdout",
          "text": [
            "(60000, 28, 28)\n",
            "<class 'numpy.ndarray'>\n"
          ]
        }
      ]
    },
    {
      "cell_type": "markdown",
      "source": [
        "### 훈련 데이터와 테스트 데이터를 나누고 0 ~ 1 로 스케일링"
      ],
      "metadata": {
        "id": "lsk_sL2HRawZ"
      }
    },
    {
      "cell_type": "code",
      "source": [
        "# train_full 데이터 중에서 5000개는 validation에 사용하고 나머지는 train 에 사용\n",
        "# 이미지 데이터이므로 값이 0 ~ 255 사이이므로 255로 나눠서 스케일링\n",
        "X_valid, X_train = X_train_full[:5000] / 255, X_train_full[5000:]/255\n",
        "y_valid, y_train = y_train_full[:5000], y_train_full[5000:]\n",
        "X_test = X_test / 255"
      ],
      "metadata": {
        "id": "0_3ry0WcRZmC"
      },
      "execution_count": 4,
      "outputs": []
    },
    {
      "cell_type": "markdown",
      "source": [
        "### 이미지 출력해서 확인"
      ],
      "metadata": {
        "id": "IlUAFq0CTSr-"
      }
    },
    {
      "cell_type": "code",
      "source": [
        "# 흑백 이미지이므로 cmap 으로 binary 를 사용\n",
        "plt.imshow(X_train[0], cmap = 'binary')\n",
        "plt.axis('off')\n",
        "plt.show()"
      ],
      "metadata": {
        "colab": {
          "base_uri": "https://localhost:8080/",
          "height": 406
        },
        "id": "XKuMV77dRLfl",
        "outputId": "bdac4183-dd98-42bc-ddc5-b52094efd1d2"
      },
      "execution_count": 5,
      "outputs": [
        {
          "output_type": "display_data",
          "data": {
            "text/plain": [
              "<Figure size 640x480 with 1 Axes>"
            ],
            "image/png": "[encoded data removed]"
          },
          "metadata": {}
        }
      ]
    },
    {
      "cell_type": "markdown",
      "source": [
        "### 데이터 레이블"
      ],
      "metadata": {
        "id": "69IEVpnYUNlK"
      }
    },
    {
      "cell_type": "code",
      "source": [
        "# 데이터의 레이블이 숫자로 되어 있음\n",
        "\n",
        "print(y_train) # 0 ~ 9 사이의 숫자\n",
        "# 유저 입장에서는 숫자 보다 문자열로 나타나는게 좋음\n",
        "\n",
        "# 각 레이블 별 품목 명을 리스트로 생성\n",
        "# 리스트로 나타내는게 아니라 대표하는 이미지로 생성하는 것도 방법\n",
        "class_names = [\"T-shirt/top\", \"Trouser\", \"Pullover\", \"Dress\", \"Coat\",\n",
        "\"Sandal\", \"Shirt\", \"Sneaker\", \"Bag\", \"Ankle boot\"]\n",
        "\n",
        "# class name 확인\n",
        "print(class_names[y_train[1]]) # 0번이므로 T-shirt/top"
      ],
      "metadata": {
        "colab": {
          "base_uri": "https://localhost:8080/"
        },
        "id": "oQNKY_R1RLjT",
        "outputId": "61b63d06-9453-42c2-ef30-879c5e046e16"
      },
      "execution_count": 6,
      "outputs": [
        {
          "output_type": "stream",
          "name": "stdout",
          "text": [
            "[4 0 7 ... 3 0 5]\n",
            "T-shirt/top\n"
          ]
        }
      ]
    },
    {
      "cell_type": "markdown",
      "source": [
        "### 데이터 크기 확인"
      ],
      "metadata": {
        "id": "zELtQyvbUQjL"
      }
    },
    {
      "cell_type": "code",
      "source": [
        "print(X_train.shape)\n",
        "print(X_valid.shape)\n",
        "print(X_test.shape)"
      ],
      "metadata": {
        "colab": {
          "base_uri": "https://localhost:8080/"
        },
        "id": "hVzzSn0eRLlj",
        "outputId": "df1c51d0-d9b4-4efc-bdb4-1f98f78f61ab"
      },
      "execution_count": 7,
      "outputs": [
        {
          "output_type": "stream",
          "name": "stdout",
          "text": [
            "(55000, 28, 28)\n",
            "(5000, 28, 28)\n",
            "(10000, 28, 28)\n"
          ]
        }
      ]
    },
    {
      "cell_type": "code",
      "source": [
        "# 행 갯수\n",
        "n_rows = 4\n",
        "# 열 갯수\n",
        "n_cols = 10\n",
        "# 캔버스의 크기 설정\n",
        "plt.figure(figsize=(n_cols * 1.2, n_rows * 1.2))\n",
        "\n",
        "# 행과 열의 갯수만큼 순회\n",
        "for row in range(n_rows):\n",
        "  for col in range(n_cols):\n",
        "    # 행과 열 번호를 가지고 인덱스를 생성\n",
        "    index = n_cols * row + col\n",
        "    # 작은 캔버스 안에 작은 캔버스를 순서대로 생성\n",
        "    plt.subplot(n_rows, n_cols, index + 1)\n",
        "    # 캔버스에 이미지를 하나씩 출력\n",
        "    plt.imshow(X_train[index], cmap=\"binary\", interpolation=\"nearest\")\n",
        "\n",
        "    plt.axis('off')\n",
        "    # 작은 캔버스에 제목(문자열) 출력\n",
        "    plt.title(class_names[y_train[index]], fontsize=12)\n",
        "\n",
        "# 작은 캔버스 사이의 여백 설정\n",
        "plt.subplots_adjust(wspace=0.2, hspace=0.5)\n",
        "\n",
        "# 로컬에 이미지로 저장하는 함수 사용\n",
        "# 첫번째 매개변수가 이미지 파일 이름\n",
        "save_fig('fashion_mnist_plot', tight_layout=False)\n",
        "\n",
        "# 출력\n",
        "plt.show()"
      ],
      "metadata": {
        "colab": {
          "base_uri": "https://localhost:8080/",
          "height": 446
        },
        "id": "no9hTth6RLoL",
        "outputId": "d780255c-d3fc-4e89-9845-fed19ce31c5f"
      },
      "execution_count": 8,
      "outputs": [
        {
          "output_type": "stream",
          "name": "stdout",
          "text": [
            "그림 저장: fashion_mnist_plot\n"
          ]
        },
        {
          "output_type": "display_data",
          "data": {
            "text/plain": [
              "<Figure size 1200x480 with 40 Axes>"
            ],
            "image/png": "[encoded data removed]"
          },
          "metadata": {}
        }
      ]
    },
    {
      "cell_type": "markdown",
      "source": [
        "### Flatten layer"
      ],
      "metadata": {
        "id": "OlyJyIoxZqOB"
      }
    },
    {
      "cell_type": "code",
      "source": [
        "print(f'변경전 shape: {X_train.shape}')\n",
        "# -1 을 사용해서 나머지 전부를 사용\n",
        "print(f'1D로 shape 변경 후: {X_train.reshape(55000, -1).shape}')"
      ],
      "metadata": {
        "colab": {
          "base_uri": "https://localhost:8080/"
        },
        "id": "yp0USDO3RLqn",
        "outputId": "0f2ff211-a6e5-40c0-eb62-486452048775"
      },
      "execution_count": 9,
      "outputs": [
        {
          "output_type": "stream",
          "name": "stdout",
          "text": [
            "변경전 shape: (55000, 28, 28)\n",
            "1D로 shape 변경 후: (55000, 784)\n"
          ]
        }
      ]
    },
    {
      "cell_type": "code",
      "source": [
        "print(f'변경전 shape: {X_train.shape}')\n",
        "\n",
        "# Flatten 레이어 적용 후 shape 확인\n",
        "print(f'Flatten 적용 후: {tf.keras.layers.Flatten()(X_train).shape}')\n"
      ],
      "metadata": {
        "colab": {
          "base_uri": "https://localhost:8080/"
        },
        "id": "vQY9GcBrRLs7",
        "outputId": "4fe27f43-1b2b-4208-c244-a0fec90844fd"
      },
      "execution_count": 10,
      "outputs": [
        {
          "output_type": "stream",
          "name": "stdout",
          "text": [
            "변경전 shape: (55000, 28, 28)\n",
            "Flatten 적용 후: (55000, 784)\n"
          ]
        }
      ]
    },
    {
      "cell_type": "markdown",
      "source": [
        "### 활성화 함수 적용"
      ],
      "metadata": {
        "id": "P_2LIJAwaUAw"
      }
    },
    {
      "cell_type": "code",
      "source": [
        "# Dense 레이어에 relu 활성화 함수를 적용한 경우\n",
        "\n",
        "# 뉴런의 갯수가 128개인 relu 를 활성화 함수로 사용하는 완전 연결 층을 생성\n",
        "# Dense layer 가 완전 연결 층\n",
        "tf.keras.layers.Dense(128, activation='relu')"
      ],
      "metadata": {
        "colab": {
          "base_uri": "https://localhost:8080/"
        },
        "id": "_h0wGtPvaJgq",
        "outputId": "7063b6f1-9f62-4863-a4cd-88899290f9cc"
      },
      "execution_count": 11,
      "outputs": [
        {
          "output_type": "execute_result",
          "data": {
            "text/plain": [
              "<keras.src.layers.core.dense.Dense at 0x7a0b250662f0>"
            ]
          },
          "metadata": {},
          "execution_count": 11
        }
      ]
    },
    {
      "cell_type": "code",
      "source": [
        "# Dense 레이어에 relu 활성화 함수를 적용한 경우\n",
        "\n",
        "# Sequential API 에 여러 층을 추가하는 방식\n",
        "# 위의 코드와 동일한 층을 생성\n",
        "model = tf.keras.Sequential([\n",
        "tf.keras.layers.Dense(128),\n",
        "tf.keras.layers.Activation('relu')\n",
        "])"
      ],
      "metadata": {
        "id": "BBbzQme6aJlr"
      },
      "execution_count": 12,
      "outputs": []
    },
    {
      "cell_type": "markdown",
      "source": [
        "## Sequeuantial API 를 사용해서 모델 생성"
      ],
      "metadata": {
        "id": "Ijaq8pw6cH1i"
      }
    },
    {
      "cell_type": "code",
      "source": [
        "# 모델 생성\n",
        "\n",
        "model = keras.models.Sequential()\n",
        "\n",
        "# 입력 층 - 원래 28x28 인 입력에 대해 flatten\n",
        "# 입력이므로 연산이 필요 없어서 activation 을 사용하지 않음\n",
        "model.add(keras.layers.Flatten(input_shape=[28, 28]))\n",
        "\n",
        "# hidden layer - 이 층의 갯수가 많아서 deep learning\n",
        "# 갯수에 제한은 없으나 일반적으로 뉴런의 갯수는 줄어드는 방향으로 설정\n",
        "model.add(keras.layers.Dense(300, activation=\"relu\"))\n",
        "model.add(keras.layers.Dense(100, activation=\"relu\"))\n",
        "\n",
        "# 출력 층\n",
        "# 뉴런의 갯수는 출력하는 데이터의 갯수\n",
        "# 분류의 경우에는 클래스의 갯수이고 분류는 1\n",
        "model.add(keras.layers.Dense(10, activation=\"softmax\"))\n"
      ],
      "metadata": {
        "id": "J4l9aSYAaJoJ"
      },
      "execution_count": 13,
      "outputs": []
    },
    {
      "cell_type": "code",
      "source": [
        "# 전역 상태 해제\n",
        "\n",
        "keras.backend.clear_session()\n",
        "np.random.seed(42)\n",
        "tf.random.set_seed(42)"
      ],
      "metadata": {
        "id": "aX4K9PNIaJqo"
      },
      "execution_count": 14,
      "outputs": []
    },
    {
      "cell_type": "code",
      "source": [
        "# 층을 추가하는 방식이 아니라 한 번에 여러 층을 구성\n",
        "\n",
        "model = keras.models.Sequential([\n",
        "  keras.layers.Flatten(input_shape=[28, 28]),\n",
        "  keras.layers.Dense(300, activation=\"relu\"),\n",
        "  keras.layers.Dense(100, activation=\"relu\"),\n",
        "  keras.layers.Dense(10, activation=\"softmax\")\n",
        "])"
      ],
      "metadata": {
        "id": "aajjrBA-aJtX"
      },
      "execution_count": 15,
      "outputs": []
    },
    {
      "cell_type": "markdown",
      "source": [
        "### 모델을 이미지로 출력해서 확인"
      ],
      "metadata": {
        "id": "nEDIsfhrjq95"
      }
    },
    {
      "cell_type": "code",
      "source": [
        "# 로컬에서 수행하려면 트리 구조를 출력했을 때처럼 graphviz 가 설치되어 있어야 함\n",
        "# colab 에서는 바로 수행 가능\n",
        "keras.utils.plot_model(model, \"my_fashion_mnist_model.png\", show_shapes=True)"
      ],
      "metadata": {
        "colab": {
          "base_uri": "https://localhost:8080/",
          "height": 533
        },
        "id": "6ZDTpuKXaJvn",
        "outputId": "f121dcd1-7a5a-44c9-eae5-4931414e919d"
      },
      "execution_count": 16,
      "outputs": [
        {
          "output_type": "execute_result",
          "data": {
            "image/png": "[encoded data removed]",
            "text/plain": [
              "<IPython.core.display.Image object>"
            ]
          },
          "metadata": {},
          "execution_count": 16
        }
      ]
    },
    {
      "cell_type": "markdown",
      "source": [
        "### 손실 함수"
      ],
      "metadata": {
        "id": "BZyi1SHdkJEG"
      }
    },
    {
      "cell_type": "code",
      "source": [
        "# 이진 분류 - 출력 노드의 갯수가 1개인 경우\n",
        "model.compile(loss = 'binary_crossentropy')"
      ],
      "metadata": {
        "id": "xvvjMou_kI11"
      },
      "execution_count": 17,
      "outputs": []
    },
    {
      "cell_type": "code",
      "source": [
        "# 출력이 둘 이상인 경우\n",
        "model.compile(loss='categorical_crossentropy')"
      ],
      "metadata": {
        "id": "DxAbDBlsKK1-"
      },
      "execution_count": 18,
      "outputs": []
    },
    {
      "cell_type": "markdown",
      "source": [
        "### Optimizer"
      ],
      "metadata": {
        "id": "uUj_LzoAqf8a"
      }
    },
    {
      "cell_type": "code",
      "source": [
        "model.compile(optimizer = 'adam', )"
      ],
      "metadata": {
        "id": "T8lyLDKwj9WU"
      },
      "execution_count": 19,
      "outputs": []
    },
    {
      "cell_type": "markdown",
      "source": [
        "### 모델 컴파일"
      ],
      "metadata": {
        "id": "86sTZ84qqwwY"
      }
    },
    {
      "cell_type": "code",
      "source": [
        "model.compile(optimizer = 'adam',\n",
        "              loss = 'sparse_categorical_crossentropy',\n",
        "              metrics=[\"accuracy\"])"
      ],
      "metadata": {
        "id": "_cl4SoRdj9eT"
      },
      "execution_count": 20,
      "outputs": []
    },
    {
      "cell_type": "markdown",
      "source": [
        "### 모델 훈련"
      ],
      "metadata": {
        "id": "Ns9yeMzXrJrj"
      }
    },
    {
      "cell_type": "code",
      "source": [
        "history = model.fit(X_train, y_train, epochs = 25,\n",
        "                    validation_data = (X_valid, y_valid))"
      ],
      "metadata": {
        "colab": {
          "base_uri": "https://localhost:8080/",
          "height": 460
        },
        "id": "s0Wy5AJaj9gi",
        "outputId": "b9b72cf0-5426-43b0-c86f-5d25dd9d9be6"
      },
      "execution_count": 21,
      "outputs": [
        {
          "output_type": "stream",
          "name": "stdout",
          "text": [
            "Epoch 1/25\n",
            "1719/1719 [==============================] - 19s 10ms/step - loss: 0.4809 - accuracy: 0.8256 - val_loss: 0.3610 - val_accuracy: 0.8708\n",
            "Epoch 2/25\n",
            "1719/1719 [==============================] - 20s 12ms/step - loss: 0.3611 - accuracy: 0.8673 - val_loss: 0.4355 - val_accuracy: 0.8546\n",
            "Epoch 3/25\n",
            "  47/1719 [..............................] - ETA: 20s - loss: 0.3408 - accuracy: 0.8803"
          ]
        },
        {
          "output_type": "error",
          "ename": "KeyboardInterrupt",
          "evalue": "ignored",
          "traceback": [
            "\u001b[0;31m---------------------------------------------------------------------------\u001b[0m",
            "\u001b[0;31mKeyboardInterrupt\u001b[0m                         Traceback (most recent call last)",
            "\u001b[0;32m<ipython-input-21-a27e242ac4b1>\u001b[0m in \u001b[0;36m<cell line: 1>\u001b[0;34m()\u001b[0m\n\u001b[0;32m----> 1\u001b[0;31m history = model.fit(X_train, y_train, epochs = 25,\n\u001b[0m\u001b[1;32m      2\u001b[0m                     validation_data = (X_valid, y_valid))\n",
            "\u001b[0;32m/usr/local/lib/python3.10/dist-packages/keras/src/utils/traceback_utils.py\u001b[0m in \u001b[0;36merror_handler\u001b[0;34m(*args, **kwargs)\u001b[0m\n\u001b[1;32m     63\u001b[0m         \u001b[0mfiltered_tb\u001b[0m \u001b[0;34m=\u001b[0m \u001b[0;32mNone\u001b[0m\u001b[0;34m\u001b[0m\u001b[0;34m\u001b[0m\u001b[0m\n\u001b[1;32m     64\u001b[0m         \u001b[0;32mtry\u001b[0m\u001b[0;34m:\u001b[0m\u001b[0;34m\u001b[0m\u001b[0;34m\u001b[0m\u001b[0m\n\u001b[0;32m---> 65\u001b[0;31m             \u001b[0;32mreturn\u001b[0m \u001b[0mfn\u001b[0m\u001b[0;34m(\u001b[0m\u001b[0;34m*\u001b[0m\u001b[0margs\u001b[0m\u001b[0;34m,\u001b[0m \u001b[0;34m**\u001b[0m\u001b[0mkwargs\u001b[0m\u001b[0;34m)\u001b[0m\u001b[0;34m\u001b[0m\u001b[0;34m\u001b[0m\u001b[0m\n\u001b[0m\u001b[1;32m     66\u001b[0m         \u001b[0;32mexcept\u001b[0m \u001b[0mException\u001b[0m \u001b[0;32mas\u001b[0m \u001b[0me\u001b[0m\u001b[0;34m:\u001b[0m\u001b[0;34m\u001b[0m\u001b[0;34m\u001b[0m\u001b[0m\n\u001b[1;32m     67\u001b[0m             \u001b[0mfiltered_tb\u001b[0m \u001b[0;34m=\u001b[0m \u001b[0m_process_traceback_frames\u001b[0m\u001b[0;34m(\u001b[0m\u001b[0me\u001b[0m\u001b[0;34m.\u001b[0m\u001b[0m__traceback__\u001b[0m\u001b[0;34m)\u001b[0m\u001b[0;34m\u001b[0m\u001b[0;34m\u001b[0m\u001b[0m\n",
            "\u001b[0;32m/usr/local/lib/python3.10/dist-packages/keras/src/engine/training.py\u001b[0m in \u001b[0;36mfit\u001b[0;34m(self, x, y, batch_size, epochs, verbose, callbacks, validation_split, validation_data, shuffle, class_weight, sample_weight, initial_epoch, steps_per_epoch, validation_steps, validation_batch_size, validation_freq, max_queue_size, workers, use_multiprocessing)\u001b[0m\n\u001b[1;32m   1740\u001b[0m                         ):\n\u001b[1;32m   1741\u001b[0m                             \u001b[0mcallbacks\u001b[0m\u001b[0;34m.\u001b[0m\u001b[0mon_train_batch_begin\u001b[0m\u001b[0;34m(\u001b[0m\u001b[0mstep\u001b[0m\u001b[0;34m)\u001b[0m\u001b[0;34m\u001b[0m\u001b[0;34m\u001b[0m\u001b[0m\n\u001b[0;32m-> 1742\u001b[0;31m                             \u001b[0mtmp_logs\u001b[0m \u001b[0;34m=\u001b[0m \u001b[0mself\u001b[0m\u001b[0;34m.\u001b[0m\u001b[0mtrain_function\u001b[0m\u001b[0;34m(\u001b[0m\u001b[0miterator\u001b[0m\u001b[0;34m)\u001b[0m\u001b[0;34m\u001b[0m\u001b[0;34m\u001b[0m\u001b[0m\n\u001b[0m\u001b[1;32m   1743\u001b[0m                             \u001b[0;32mif\u001b[0m \u001b[0mdata_handler\u001b[0m\u001b[0;34m.\u001b[0m\u001b[0mshould_sync\u001b[0m\u001b[0;34m:\u001b[0m\u001b[0;34m\u001b[0m\u001b[0;34m\u001b[0m\u001b[0m\n\u001b[1;32m   1744\u001b[0m                                 \u001b[0mcontext\u001b[0m\u001b[0;34m.\u001b[0m\u001b[0masync_wait\u001b[0m\u001b[0;34m(\u001b[0m\u001b[0;34m)\u001b[0m\u001b[0;34m\u001b[0m\u001b[0;34m\u001b[0m\u001b[0m\n",
            "\u001b[0;32m/usr/local/lib/python3.10/dist-packages/tensorflow/python/util/traceback_utils.py\u001b[0m in \u001b[0;36merror_handler\u001b[0;34m(*args, **kwargs)\u001b[0m\n\u001b[1;32m    148\u001b[0m     \u001b[0mfiltered_tb\u001b[0m \u001b[0;34m=\u001b[0m \u001b[0;32mNone\u001b[0m\u001b[0;34m\u001b[0m\u001b[0;34m\u001b[0m\u001b[0m\n\u001b[1;32m    149\u001b[0m     \u001b[0;32mtry\u001b[0m\u001b[0;34m:\u001b[0m\u001b[0;34m\u001b[0m\u001b[0;34m\u001b[0m\u001b[0m\n\u001b[0;32m--> 150\u001b[0;31m       \u001b[0;32mreturn\u001b[0m \u001b[0mfn\u001b[0m\u001b[0;34m(\u001b[0m\u001b[0;34m*\u001b[0m\u001b[0margs\u001b[0m\u001b[0;34m,\u001b[0m \u001b[0;34m**\u001b[0m\u001b[0mkwargs\u001b[0m\u001b[0;34m)\u001b[0m\u001b[0;34m\u001b[0m\u001b[0;34m\u001b[0m\u001b[0m\n\u001b[0m\u001b[1;32m    151\u001b[0m     \u001b[0;32mexcept\u001b[0m \u001b[0mException\u001b[0m \u001b[0;32mas\u001b[0m \u001b[0me\u001b[0m\u001b[0;34m:\u001b[0m\u001b[0;34m\u001b[0m\u001b[0;34m\u001b[0m\u001b[0m\n\u001b[1;32m    152\u001b[0m       \u001b[0mfiltered_tb\u001b[0m \u001b[0;34m=\u001b[0m \u001b[0m_process_traceback_frames\u001b[0m\u001b[0;34m(\u001b[0m\u001b[0me\u001b[0m\u001b[0;34m.\u001b[0m\u001b[0m__traceback__\u001b[0m\u001b[0;34m)\u001b[0m\u001b[0;34m\u001b[0m\u001b[0;34m\u001b[0m\u001b[0m\n",
            "\u001b[0;32m/usr/local/lib/python3.10/dist-packages/tensorflow/python/eager/polymorphic_function/polymorphic_function.py\u001b[0m in \u001b[0;36m__call__\u001b[0;34m(self, *args, **kwds)\u001b[0m\n\u001b[1;32m    823\u001b[0m \u001b[0;34m\u001b[0m\u001b[0m\n\u001b[1;32m    824\u001b[0m       \u001b[0;32mwith\u001b[0m \u001b[0mOptionalXlaContext\u001b[0m\u001b[0;34m(\u001b[0m\u001b[0mself\u001b[0m\u001b[0;34m.\u001b[0m\u001b[0m_jit_compile\u001b[0m\u001b[0;34m)\u001b[0m\u001b[0;34m:\u001b[0m\u001b[0;34m\u001b[0m\u001b[0;34m\u001b[0m\u001b[0m\n\u001b[0;32m--> 825\u001b[0;31m         \u001b[0mresult\u001b[0m \u001b[0;34m=\u001b[0m \u001b[0mself\u001b[0m\u001b[0;34m.\u001b[0m\u001b[0m_call\u001b[0m\u001b[0;34m(\u001b[0m\u001b[0;34m*\u001b[0m\u001b[0margs\u001b[0m\u001b[0;34m,\u001b[0m \u001b[0;34m**\u001b[0m\u001b[0mkwds\u001b[0m\u001b[0;34m)\u001b[0m\u001b[0;34m\u001b[0m\u001b[0;34m\u001b[0m\u001b[0m\n\u001b[0m\u001b[1;32m    826\u001b[0m \u001b[0;34m\u001b[0m\u001b[0m\n\u001b[1;32m    827\u001b[0m       \u001b[0mnew_tracing_count\u001b[0m \u001b[0;34m=\u001b[0m \u001b[0mself\u001b[0m\u001b[0;34m.\u001b[0m\u001b[0mexperimental_get_tracing_count\u001b[0m\u001b[0;34m(\u001b[0m\u001b[0;34m)\u001b[0m\u001b[0;34m\u001b[0m\u001b[0;34m\u001b[0m\u001b[0m\n",
            "\u001b[0;32m/usr/local/lib/python3.10/dist-packages/tensorflow/python/eager/polymorphic_function/polymorphic_function.py\u001b[0m in \u001b[0;36m_call\u001b[0;34m(self, *args, **kwds)\u001b[0m\n\u001b[1;32m    855\u001b[0m       \u001b[0;31m# In this case we have created variables on the first call, so we run the\u001b[0m\u001b[0;34m\u001b[0m\u001b[0;34m\u001b[0m\u001b[0m\n\u001b[1;32m    856\u001b[0m       \u001b[0;31m# defunned version which is guaranteed to never create variables.\u001b[0m\u001b[0;34m\u001b[0m\u001b[0;34m\u001b[0m\u001b[0m\n\u001b[0;32m--> 857\u001b[0;31m       \u001b[0;32mreturn\u001b[0m \u001b[0mself\u001b[0m\u001b[0;34m.\u001b[0m\u001b[0m_no_variable_creation_fn\u001b[0m\u001b[0;34m(\u001b[0m\u001b[0;34m*\u001b[0m\u001b[0margs\u001b[0m\u001b[0;34m,\u001b[0m \u001b[0;34m**\u001b[0m\u001b[0mkwds\u001b[0m\u001b[0;34m)\u001b[0m  \u001b[0;31m# pylint: disable=not-callable\u001b[0m\u001b[0;34m\u001b[0m\u001b[0;34m\u001b[0m\u001b[0m\n\u001b[0m\u001b[1;32m    858\u001b[0m     \u001b[0;32melif\u001b[0m \u001b[0mself\u001b[0m\u001b[0;34m.\u001b[0m\u001b[0m_variable_creation_fn\u001b[0m \u001b[0;32mis\u001b[0m \u001b[0;32mnot\u001b[0m \u001b[0;32mNone\u001b[0m\u001b[0;34m:\u001b[0m\u001b[0;34m\u001b[0m\u001b[0;34m\u001b[0m\u001b[0m\n\u001b[1;32m    859\u001b[0m       \u001b[0;31m# Release the lock early so that multiple threads can perform the call\u001b[0m\u001b[0;34m\u001b[0m\u001b[0;34m\u001b[0m\u001b[0m\n",
            "\u001b[0;32m/usr/local/lib/python3.10/dist-packages/tensorflow/python/eager/polymorphic_function/tracing_compiler.py\u001b[0m in \u001b[0;36m__call__\u001b[0;34m(self, *args, **kwargs)\u001b[0m\n\u001b[1;32m    145\u001b[0m     \u001b[0;32mwith\u001b[0m \u001b[0mself\u001b[0m\u001b[0;34m.\u001b[0m\u001b[0m_lock\u001b[0m\u001b[0;34m:\u001b[0m\u001b[0;34m\u001b[0m\u001b[0;34m\u001b[0m\u001b[0m\n\u001b[1;32m    146\u001b[0m       (concrete_function,\n\u001b[0;32m--> 147\u001b[0;31m        filtered_flat_args) = self._maybe_define_function(args, kwargs)\n\u001b[0m\u001b[1;32m    148\u001b[0m     return concrete_function._call_flat(\n\u001b[1;32m    149\u001b[0m         filtered_flat_args, captured_inputs=concrete_function.captured_inputs)  # pylint: disable=protected-access\n",
            "\u001b[0;32m/usr/local/lib/python3.10/dist-packages/tensorflow/python/eager/polymorphic_function/tracing_compiler.py\u001b[0m in \u001b[0;36m_maybe_define_function\u001b[0;34m(self, args, kwargs)\u001b[0m\n\u001b[1;32m    359\u001b[0m         self._function_spec.make_canonicalized_monomorphic_type(\n\u001b[1;32m    360\u001b[0m             args, kwargs, captures))\n\u001b[0;32m--> 361\u001b[0;31m     concrete_function = self._function_cache.lookup(current_func_context,\n\u001b[0m\u001b[1;32m    362\u001b[0m                                                     lookup_func_type)\n\u001b[1;32m    363\u001b[0m     \u001b[0;32mif\u001b[0m \u001b[0mconcrete_function\u001b[0m \u001b[0;32mis\u001b[0m \u001b[0;32mnot\u001b[0m \u001b[0;32mNone\u001b[0m\u001b[0;34m:\u001b[0m\u001b[0;34m\u001b[0m\u001b[0;34m\u001b[0m\u001b[0m\n",
            "\u001b[0;32m/usr/local/lib/python3.10/dist-packages/tensorflow/core/function/polymorphism/function_cache.py\u001b[0m in \u001b[0;36mlookup\u001b[0;34m(self, context, function_type)\u001b[0m\n\u001b[1;32m     46\u001b[0m       \u001b[0mdispatch_type\u001b[0m \u001b[0;34m=\u001b[0m \u001b[0mself\u001b[0m\u001b[0;34m.\u001b[0m\u001b[0m_dispatch_dict\u001b[0m\u001b[0;34m[\u001b[0m\u001b[0mcontext\u001b[0m\u001b[0;34m]\u001b[0m\u001b[0;34m.\u001b[0m\u001b[0mdispatch\u001b[0m\u001b[0;34m(\u001b[0m\u001b[0mfunction_type\u001b[0m\u001b[0;34m)\u001b[0m\u001b[0;34m\u001b[0m\u001b[0;34m\u001b[0m\u001b[0m\n\u001b[1;32m     47\u001b[0m       \u001b[0;32mif\u001b[0m \u001b[0mdispatch_type\u001b[0m\u001b[0;34m:\u001b[0m\u001b[0;34m\u001b[0m\u001b[0;34m\u001b[0m\u001b[0m\n\u001b[0;32m---> 48\u001b[0;31m         \u001b[0;32mreturn\u001b[0m \u001b[0mself\u001b[0m\u001b[0;34m.\u001b[0m\u001b[0m_primary\u001b[0m\u001b[0;34m[\u001b[0m\u001b[0;34m(\u001b[0m\u001b[0mcontext\u001b[0m\u001b[0;34m,\u001b[0m \u001b[0mdispatch_type\u001b[0m\u001b[0;34m)\u001b[0m\u001b[0;34m]\u001b[0m\u001b[0;34m\u001b[0m\u001b[0;34m\u001b[0m\u001b[0m\n\u001b[0m\u001b[1;32m     49\u001b[0m \u001b[0;34m\u001b[0m\u001b[0m\n\u001b[1;32m     50\u001b[0m     \u001b[0;32mreturn\u001b[0m \u001b[0;32mNone\u001b[0m\u001b[0;34m\u001b[0m\u001b[0;34m\u001b[0m\u001b[0m\n",
            "\u001b[0;32m/usr/local/lib/python3.10/dist-packages/tensorflow/core/function/polymorphism/function_type.py\u001b[0m in \u001b[0;36m__eq__\u001b[0;34m(self, other)\u001b[0m\n\u001b[1;32m    349\u001b[0m       \u001b[0;32mreturn\u001b[0m \u001b[0mNotImplemented\u001b[0m\u001b[0;34m\u001b[0m\u001b[0;34m\u001b[0m\u001b[0m\n\u001b[1;32m    350\u001b[0m \u001b[0;34m\u001b[0m\u001b[0m\n\u001b[0;32m--> 351\u001b[0;31m     return (self.parameters, self.captures) == (other.parameters,\n\u001b[0m\u001b[1;32m    352\u001b[0m                                                 other.captures)\n\u001b[1;32m    353\u001b[0m \u001b[0;34m\u001b[0m\u001b[0m\n",
            "\u001b[0;32m/usr/local/lib/python3.10/dist-packages/tensorflow/core/function/polymorphism/function_type.py\u001b[0m in \u001b[0;36m__eq__\u001b[0;34m(self, other)\u001b[0m\n\u001b[1;32m    139\u001b[0m       \u001b[0;32mreturn\u001b[0m \u001b[0mNotImplemented\u001b[0m\u001b[0;34m\u001b[0m\u001b[0;34m\u001b[0m\u001b[0m\n\u001b[1;32m    140\u001b[0m \u001b[0;34m\u001b[0m\u001b[0m\n\u001b[0;32m--> 141\u001b[0;31m     return ((self.name, self.kind, self.optional,\n\u001b[0m\u001b[1;32m    142\u001b[0m              \u001b[0mself\u001b[0m\u001b[0;34m.\u001b[0m\u001b[0mtype_constraint\u001b[0m\u001b[0;34m)\u001b[0m \u001b[0;34m==\u001b[0m \u001b[0;34m(\u001b[0m\u001b[0mother\u001b[0m\u001b[0;34m.\u001b[0m\u001b[0mname\u001b[0m\u001b[0;34m,\u001b[0m \u001b[0mother\u001b[0m\u001b[0;34m.\u001b[0m\u001b[0mkind\u001b[0m\u001b[0;34m,\u001b[0m \u001b[0mother\u001b[0m\u001b[0;34m.\u001b[0m\u001b[0moptional\u001b[0m\u001b[0;34m,\u001b[0m\u001b[0;34m\u001b[0m\u001b[0;34m\u001b[0m\u001b[0m\n\u001b[1;32m    143\u001b[0m                                        other.type_constraint))\n",
            "\u001b[0;32m/usr/local/lib/python3.10/dist-packages/tensorflow/python/framework/type_spec.py\u001b[0m in \u001b[0;36m__eq__\u001b[0;34m(self, other)\u001b[0m\n\u001b[1;32m    509\u001b[0m     \u001b[0;31m# pylint: disable=protected-access\u001b[0m\u001b[0;34m\u001b[0m\u001b[0;34m\u001b[0m\u001b[0m\n\u001b[1;32m    510\u001b[0m     return (type(other) is type(self) and\n\u001b[0;32m--> 511\u001b[0;31m             self.__get_cmp_key() == other.__get_cmp_key())\n\u001b[0m\u001b[1;32m    512\u001b[0m \u001b[0;34m\u001b[0m\u001b[0m\n\u001b[1;32m    513\u001b[0m   \u001b[0;32mdef\u001b[0m \u001b[0m__ne__\u001b[0m\u001b[0;34m(\u001b[0m\u001b[0mself\u001b[0m\u001b[0;34m,\u001b[0m \u001b[0mother\u001b[0m\u001b[0;34m)\u001b[0m \u001b[0;34m->\u001b[0m \u001b[0mbool\u001b[0m\u001b[0;34m:\u001b[0m\u001b[0;34m\u001b[0m\u001b[0;34m\u001b[0m\u001b[0m\n",
            "\u001b[0;32m/usr/local/lib/python3.10/dist-packages/tensorflow/python/framework/type_spec.py\u001b[0m in \u001b[0;36m__get_cmp_key\u001b[0;34m(self)\u001b[0m\n\u001b[1;32m    564\u001b[0m     \u001b[0;34m\"\"\"Returns a hashable eq-comparable key for `self`.\"\"\"\u001b[0m\u001b[0;34m\u001b[0m\u001b[0;34m\u001b[0m\u001b[0m\n\u001b[1;32m    565\u001b[0m     \u001b[0;31m# TODO(b/133606651): Decide whether to cache this value.\u001b[0m\u001b[0;34m\u001b[0m\u001b[0;34m\u001b[0m\u001b[0m\n\u001b[0;32m--> 566\u001b[0;31m     \u001b[0;32mreturn\u001b[0m \u001b[0;34m(\u001b[0m\u001b[0mtype\u001b[0m\u001b[0;34m(\u001b[0m\u001b[0mself\u001b[0m\u001b[0;34m)\u001b[0m\u001b[0;34m,\u001b[0m \u001b[0mself\u001b[0m\u001b[0;34m.\u001b[0m\u001b[0m__make_cmp_key\u001b[0m\u001b[0;34m(\u001b[0m\u001b[0mself\u001b[0m\u001b[0;34m.\u001b[0m\u001b[0m_serialize\u001b[0m\u001b[0;34m(\u001b[0m\u001b[0;34m)\u001b[0m\u001b[0;34m)\u001b[0m\u001b[0;34m)\u001b[0m\u001b[0;34m\u001b[0m\u001b[0;34m\u001b[0m\u001b[0m\n\u001b[0m\u001b[1;32m    567\u001b[0m \u001b[0;34m\u001b[0m\u001b[0m\n\u001b[1;32m    568\u001b[0m   \u001b[0;32mdef\u001b[0m \u001b[0m__make_cmp_key\u001b[0m\u001b[0;34m(\u001b[0m\u001b[0mself\u001b[0m\u001b[0;34m,\u001b[0m \u001b[0mvalue\u001b[0m\u001b[0;34m)\u001b[0m\u001b[0;34m:\u001b[0m\u001b[0;34m\u001b[0m\u001b[0;34m\u001b[0m\u001b[0m\n",
            "\u001b[0;32m/usr/local/lib/python3.10/dist-packages/tensorflow/python/framework/type_spec.py\u001b[0m in \u001b[0;36m__make_cmp_key\u001b[0;34m(self, value)\u001b[0m\n\u001b[1;32m    582\u001b[0m       ])\n\u001b[1;32m    583\u001b[0m     \u001b[0;32mif\u001b[0m \u001b[0misinstance\u001b[0m\u001b[0;34m(\u001b[0m\u001b[0mvalue\u001b[0m\u001b[0;34m,\u001b[0m \u001b[0mtuple\u001b[0m\u001b[0;34m)\u001b[0m\u001b[0;34m:\u001b[0m\u001b[0;34m\u001b[0m\u001b[0;34m\u001b[0m\u001b[0m\n\u001b[0;32m--> 584\u001b[0;31m       \u001b[0;32mreturn\u001b[0m \u001b[0mtuple\u001b[0m\u001b[0;34m(\u001b[0m\u001b[0;34m[\u001b[0m\u001b[0mself\u001b[0m\u001b[0;34m.\u001b[0m\u001b[0m__make_cmp_key\u001b[0m\u001b[0;34m(\u001b[0m\u001b[0mv\u001b[0m\u001b[0;34m)\u001b[0m \u001b[0;32mfor\u001b[0m \u001b[0mv\u001b[0m \u001b[0;32min\u001b[0m \u001b[0mvalue\u001b[0m\u001b[0;34m]\u001b[0m\u001b[0;34m)\u001b[0m\u001b[0;34m\u001b[0m\u001b[0;34m\u001b[0m\u001b[0m\n\u001b[0m\u001b[1;32m    585\u001b[0m     \u001b[0;32mif\u001b[0m \u001b[0misinstance\u001b[0m\u001b[0;34m(\u001b[0m\u001b[0mvalue\u001b[0m\u001b[0;34m,\u001b[0m \u001b[0mlist\u001b[0m\u001b[0;34m)\u001b[0m\u001b[0;34m:\u001b[0m\u001b[0;34m\u001b[0m\u001b[0;34m\u001b[0m\u001b[0m\n\u001b[1;32m    586\u001b[0m       \u001b[0;32mreturn\u001b[0m \u001b[0;34m(\u001b[0m\u001b[0mlist\u001b[0m\u001b[0;34m,\u001b[0m \u001b[0mtuple\u001b[0m\u001b[0;34m(\u001b[0m\u001b[0;34m[\u001b[0m\u001b[0mself\u001b[0m\u001b[0;34m.\u001b[0m\u001b[0m__make_cmp_key\u001b[0m\u001b[0;34m(\u001b[0m\u001b[0mv\u001b[0m\u001b[0;34m)\u001b[0m \u001b[0;32mfor\u001b[0m \u001b[0mv\u001b[0m \u001b[0;32min\u001b[0m \u001b[0mvalue\u001b[0m\u001b[0;34m]\u001b[0m\u001b[0;34m)\u001b[0m\u001b[0;34m)\u001b[0m\u001b[0;34m\u001b[0m\u001b[0;34m\u001b[0m\u001b[0m\n",
            "\u001b[0;32m/usr/local/lib/python3.10/dist-packages/tensorflow/python/framework/type_spec.py\u001b[0m in \u001b[0;36m<listcomp>\u001b[0;34m(.0)\u001b[0m\n\u001b[1;32m    582\u001b[0m       ])\n\u001b[1;32m    583\u001b[0m     \u001b[0;32mif\u001b[0m \u001b[0misinstance\u001b[0m\u001b[0;34m(\u001b[0m\u001b[0mvalue\u001b[0m\u001b[0;34m,\u001b[0m \u001b[0mtuple\u001b[0m\u001b[0;34m)\u001b[0m\u001b[0;34m:\u001b[0m\u001b[0;34m\u001b[0m\u001b[0;34m\u001b[0m\u001b[0m\n\u001b[0;32m--> 584\u001b[0;31m       \u001b[0;32mreturn\u001b[0m \u001b[0mtuple\u001b[0m\u001b[0;34m(\u001b[0m\u001b[0;34m[\u001b[0m\u001b[0mself\u001b[0m\u001b[0;34m.\u001b[0m\u001b[0m__make_cmp_key\u001b[0m\u001b[0;34m(\u001b[0m\u001b[0mv\u001b[0m\u001b[0;34m)\u001b[0m \u001b[0;32mfor\u001b[0m \u001b[0mv\u001b[0m \u001b[0;32min\u001b[0m \u001b[0mvalue\u001b[0m\u001b[0;34m]\u001b[0m\u001b[0;34m)\u001b[0m\u001b[0;34m\u001b[0m\u001b[0;34m\u001b[0m\u001b[0m\n\u001b[0m\u001b[1;32m    585\u001b[0m     \u001b[0;32mif\u001b[0m \u001b[0misinstance\u001b[0m\u001b[0;34m(\u001b[0m\u001b[0mvalue\u001b[0m\u001b[0;34m,\u001b[0m \u001b[0mlist\u001b[0m\u001b[0;34m)\u001b[0m\u001b[0;34m:\u001b[0m\u001b[0;34m\u001b[0m\u001b[0;34m\u001b[0m\u001b[0m\n\u001b[1;32m    586\u001b[0m       \u001b[0;32mreturn\u001b[0m \u001b[0;34m(\u001b[0m\u001b[0mlist\u001b[0m\u001b[0;34m,\u001b[0m \u001b[0mtuple\u001b[0m\u001b[0;34m(\u001b[0m\u001b[0;34m[\u001b[0m\u001b[0mself\u001b[0m\u001b[0;34m.\u001b[0m\u001b[0m__make_cmp_key\u001b[0m\u001b[0;34m(\u001b[0m\u001b[0mv\u001b[0m\u001b[0;34m)\u001b[0m \u001b[0;32mfor\u001b[0m \u001b[0mv\u001b[0m \u001b[0;32min\u001b[0m \u001b[0mvalue\u001b[0m\u001b[0;34m]\u001b[0m\u001b[0;34m)\u001b[0m\u001b[0;34m)\u001b[0m\u001b[0;34m\u001b[0m\u001b[0;34m\u001b[0m\u001b[0m\n",
            "\u001b[0;31mKeyboardInterrupt\u001b[0m: "
          ]
        }
      ]
    },
    {
      "cell_type": "markdown",
      "source": [
        "### history 객체"
      ],
      "metadata": {
        "id": "eYwQjjCksMZW"
      }
    },
    {
      "cell_type": "code",
      "source": [
        "history.params"
      ],
      "metadata": {
        "id": "8ARzRVQLj9jA"
      },
      "execution_count": null,
      "outputs": []
    },
    {
      "cell_type": "code",
      "source": [
        "history.history # loss, accuray 등에 대한 정보를 가지고 있음"
      ],
      "metadata": {
        "id": "Msu0OrDdsLzy"
      },
      "execution_count": null,
      "outputs": []
    },
    {
      "cell_type": "markdown",
      "source": [
        "### 학습 곡선 시각화"
      ],
      "metadata": {
        "id": "Oi26MCXSsgqe"
      }
    },
    {
      "cell_type": "code",
      "source": [
        "pd.DataFrame(history.history).plot(figsize=(6, 5))\n",
        "plt.grid(True)\n",
        "plt.gca().set_ylim(0, 1)\n",
        "save_fig(\"keras_learning_curves_plot\")\n",
        "plt.show()"
      ],
      "metadata": {
        "id": "coK-RVTJsL6d"
      },
      "execution_count": null,
      "outputs": []
    },
    {
      "cell_type": "code",
      "source": [
        "model.evaluate(X_test, y_test)"
      ],
      "metadata": {
        "id": "18HZUUuVsL8v"
      },
      "execution_count": null,
      "outputs": []
    },
    {
      "cell_type": "markdown",
      "source": [
        "### 모델을 수정해서 학습"
      ],
      "metadata": {
        "id": "uXUpvkuKugF6"
      }
    },
    {
      "cell_type": "code",
      "source": [
        "# 모델 수정\n",
        "\n",
        "model = keras.models.Sequential([\n",
        "  keras.layers.Flatten(input_shape=[28, 28]),\n",
        "  keras.layers.Dense(600, activation=\"relu\"),\n",
        "  keras.layers.Dense(600, activation=\"relu\"),\n",
        "  keras.layers.Dense(300, activation=\"relu\"),\n",
        "  keras.layers.Dense(300, activation=\"relu\"),\n",
        "  keras.layers.Dense(100, activation=\"relu\"),\n",
        "  keras.layers.Dense(50, activation=\"relu\"),\n",
        "  keras.layers.Dense(10, activation=\"softmax\")\n",
        "])\n",
        "\n",
        "# 모델 컴파일 수정\n",
        "adam_opt = tf.keras.optimizers.Adam(learning_rate = 0.0001)\n",
        "model.compile(optimizer = adam_opt,\n",
        "              loss = 'sparse_categorical_crossentropy',\n",
        "              metrics=[\"accuracy\"])\n",
        "\n",
        "# 모델 훈련 과정 수정\n",
        "history = model.fit(X_train, y_train, epochs = 50,\n",
        "                    validation_data = (X_valid, y_valid))"
      ],
      "metadata": {
        "id": "6xLqVY6VsL-u"
      },
      "execution_count": null,
      "outputs": []
    },
    {
      "cell_type": "code",
      "source": [
        "model.evaluate(X_test, y_test)\n",
        "\n",
        "pd.DataFrame(history.history).plot(figsize=(6, 5))\n",
        "plt.grid(True)\n",
        "plt.gca().set_ylim(0, 1)\n",
        "save_fig(\"keras_learning_curves_plot\")\n",
        "plt.show()"
      ],
      "metadata": {
        "id": "Yg-EhEINj9lT"
      },
      "execution_count": null,
      "outputs": []
    },
    {
      "cell_type": "markdown",
      "source": [
        "### 예측"
      ],
      "metadata": {
        "id": "MONykwDd0-7u"
      }
    },
    {
      "cell_type": "code",
      "source": [
        "# 테스트할 새로운 데이터가 없어서 기존 데이터 활용\n",
        "X_new = X_test[:3]\n",
        "\n",
        "# 각 클래스 별 확률\n",
        "y_proba = model.predict(X_new)\n",
        "y_proba.round(2)"
      ],
      "metadata": {
        "id": "SvmZRzfzKK4j"
      },
      "execution_count": null,
      "outputs": []
    },
    {
      "cell_type": "code",
      "source": [
        "# 확률이 가장 높게 나타나는 클래스를 출력\n",
        "y_pred = np.argmax(model.predict(X_new), axis = -1)\n",
        "y_pred"
      ],
      "metadata": {
        "id": "XmBCy64g1KKP"
      },
      "execution_count": null,
      "outputs": []
    },
    {
      "cell_type": "code",
      "source": [
        "np.array(class_names)[y_pred]"
      ],
      "metadata": {
        "id": "F9phkVpm1KH8"
      },
      "execution_count": null,
      "outputs": []
    },
    {
      "cell_type": "code",
      "source": [
        "# 실제 이미지를 사용해서 비교\n",
        "\n",
        "plt.figure(figsize=(7.2, 2.4))\n",
        "for index, image in enumerate(X_new):\n",
        "  plt.subplot(1, 3, index + 1)\n",
        "  plt.imshow(image, cmap=\"binary\", interpolation=\"nearest\")\n",
        "  plt.axis('off')\n",
        "  plt.title(class_names[y_test[index]], fontsize=12)\n",
        "\n",
        "plt.subplots_adjust(wspace=0.2, hspace=0.5)\n",
        "save_fig('fashion_mnist_images_plot', tight_layout=False)\n",
        "plt.show()"
      ],
      "metadata": {
        "id": "96XmiQ3K1KFv"
      },
      "execution_count": null,
      "outputs": []
    },
    {
      "cell_type": "markdown",
      "source": [
        "# 캘리포니아 주택 가격 - 다항 회귀"
      ],
      "metadata": {
        "id": "B4dTBiba2pxi"
      }
    },
    {
      "cell_type": "markdown",
      "source": [
        "## 데이터 가져오기"
      ],
      "metadata": {
        "id": "PdnZafaB2uux"
      }
    },
    {
      "cell_type": "code",
      "source": [
        "from sklearn.datasets import fetch_california_housing\n",
        "from sklearn.model_selection import train_test_split\n",
        "from sklearn.preprocessing import StandardScaler\n",
        "\n",
        "housing = fetch_california_housing()\n",
        "\n",
        "# 데이터 분리\n",
        "X_train_full, X_test, y_train_full, y_test = train_test_split(housing.data,\n",
        "                                                  housing.target, random_state = 21)\n",
        "X_train, X_valid, y_train, y_valid = train_test_split(X_train_full,\n",
        "                                                  y_train_full, random_state = 21)\n",
        "\n",
        "scaler = StandardScaler()\n",
        "\n",
        "# 정규화\n",
        "X_train = scaler.fit_transform(X_train)\n",
        "X_valid = scaler.transform(X_valid)\n",
        "X_test = scaler.transform(X_test)\n"
      ],
      "metadata": {
        "id": "6gYYoOQS1KDW"
      },
      "execution_count": 22,
      "outputs": []
    },
    {
      "cell_type": "code",
      "source": [
        "np.random.seed(21)\n",
        "tf.random.set_seed(21)"
      ],
      "metadata": {
        "id": "YSX4OmhW1KAj"
      },
      "execution_count": 23,
      "outputs": []
    },
    {
      "cell_type": "markdown",
      "source": [
        "## 모델 생성"
      ],
      "metadata": {
        "id": "eovFWO5l3n-Y"
      }
    },
    {
      "cell_type": "code",
      "source": [
        "# 모델 만들기 - hidden layer 없음\n",
        "model = keras.models.Sequential([\n",
        "keras.layers.Dense(30, activation=\"relu\", input_shape=X_train.shape[1:]),\n",
        "keras.layers.Dense(1)\n",
        "])\n",
        "\n",
        "# 컴파일\n",
        "# 손실 함수로 MSE, optimizer 로 SGD 사용\n",
        "model.compile(loss=\"mean_squared_error\",\n",
        "              optimizer=keras.optimizers.SGD(learning_rate = 1e-3),\n",
        "              metrics = tf.keras.metrics.MeanSquaredError())\n",
        "\n",
        "# 훈련\n",
        "history = model.fit(X_train, y_train, epochs=20, validation_data=(X_valid, y_valid))\n",
        "\n",
        "# 평가\n",
        "mse_test = model.evaluate(X_test, y_test)"
      ],
      "metadata": {
        "colab": {
          "base_uri": "https://localhost:8080/"
        },
        "id": "Vmvwv0hh3UId",
        "outputId": "6a8d3f67-1f61-43a7-ac52-31161ae778ed"
      },
      "execution_count": 24,
      "outputs": [
        {
          "output_type": "stream",
          "name": "stdout",
          "text": [
            "Epoch 1/20\n",
            "363/363 [==============================] - 1s 2ms/step - loss: 2.4603 - mean_squared_error: 2.4603 - val_loss: 1.0380 - val_mean_squared_error: 1.0380\n",
            "Epoch 2/20\n",
            "363/363 [==============================] - 1s 2ms/step - loss: 0.8617 - mean_squared_error: 0.8617 - val_loss: 0.8047 - val_mean_squared_error: 0.8047\n",
            "Epoch 3/20\n",
            "363/363 [==============================] - 1s 3ms/step - loss: 0.7592 - mean_squared_error: 0.7592 - val_loss: 0.7484 - val_mean_squared_error: 0.7484\n",
            "Epoch 4/20\n",
            "363/363 [==============================] - 1s 3ms/step - loss: 0.7152 - mean_squared_error: 0.7152 - val_loss: 0.7107 - val_mean_squared_error: 0.7107\n",
            "Epoch 5/20\n",
            "363/363 [==============================] - 1s 3ms/step - loss: 0.6815 - mean_squared_error: 0.6815 - val_loss: 0.6807 - val_mean_squared_error: 0.6807\n",
            "Epoch 6/20\n",
            "363/363 [==============================] - 1s 2ms/step - loss: 0.6521 - mean_squared_error: 0.6521 - val_loss: 0.6541 - val_mean_squared_error: 0.6541\n",
            "Epoch 7/20\n",
            "363/363 [==============================] - 1s 2ms/step - loss: 0.6258 - mean_squared_error: 0.6258 - val_loss: 0.6275 - val_mean_squared_error: 0.6275\n",
            "Epoch 8/20\n",
            "363/363 [==============================] - 1s 2ms/step - loss: 0.6021 - mean_squared_error: 0.6021 - val_loss: 0.6036 - val_mean_squared_error: 0.6036\n",
            "Epoch 9/20\n",
            "363/363 [==============================] - 1s 2ms/step - loss: 0.5810 - mean_squared_error: 0.5810 - val_loss: 0.5820 - val_mean_squared_error: 0.5820\n",
            "Epoch 10/20\n",
            "363/363 [==============================] - 1s 2ms/step - loss: 0.5618 - mean_squared_error: 0.5618 - val_loss: 0.5647 - val_mean_squared_error: 0.5647\n",
            "Epoch 11/20\n",
            "363/363 [==============================] - 1s 2ms/step - loss: 0.5444 - mean_squared_error: 0.5444 - val_loss: 0.5514 - val_mean_squared_error: 0.5514\n",
            "Epoch 12/20\n",
            "363/363 [==============================] - 1s 2ms/step - loss: 0.5298 - mean_squared_error: 0.5298 - val_loss: 0.5317 - val_mean_squared_error: 0.5317\n",
            "Epoch 13/20\n",
            "363/363 [==============================] - 1s 2ms/step - loss: 0.5165 - mean_squared_error: 0.5165 - val_loss: 0.5202 - val_mean_squared_error: 0.5202\n",
            "Epoch 14/20\n",
            "363/363 [==============================] - 1s 2ms/step - loss: 0.5046 - mean_squared_error: 0.5046 - val_loss: 0.5078 - val_mean_squared_error: 0.5078\n",
            "Epoch 15/20\n",
            "363/363 [==============================] - 1s 2ms/step - loss: 0.4947 - mean_squared_error: 0.4947 - val_loss: 0.4990 - val_mean_squared_error: 0.4990\n",
            "Epoch 16/20\n",
            "363/363 [==============================] - 1s 2ms/step - loss: 0.4857 - mean_squared_error: 0.4857 - val_loss: 0.4896 - val_mean_squared_error: 0.4896\n",
            "Epoch 17/20\n",
            "363/363 [==============================] - 1s 2ms/step - loss: 0.4782 - mean_squared_error: 0.4782 - val_loss: 0.4821 - val_mean_squared_error: 0.4821\n",
            "Epoch 18/20\n",
            "363/363 [==============================] - 1s 2ms/step - loss: 0.4712 - mean_squared_error: 0.4712 - val_loss: 0.4751 - val_mean_squared_error: 0.4751\n",
            "Epoch 19/20\n",
            "363/363 [==============================] - 1s 3ms/step - loss: 0.4653 - mean_squared_error: 0.4653 - val_loss: 0.4694 - val_mean_squared_error: 0.4694\n",
            "Epoch 20/20\n",
            "363/363 [==============================] - 2s 5ms/step - loss: 0.4595 - mean_squared_error: 0.4595 - val_loss: 0.4638 - val_mean_squared_error: 0.4638\n",
            "162/162 [==============================] - 0s 1ms/step - loss: 0.4786 - mean_squared_error: 0.4786\n"
          ]
        }
      ]
    },
    {
      "cell_type": "code",
      "source": [
        "# 예측\n",
        "X_new = X_test[:3]\n",
        "y_pred = model.predict(X_new)\n",
        "\n",
        "print(y_test[:3])\n",
        "print(y_pred)"
      ],
      "metadata": {
        "colab": {
          "base_uri": "https://localhost:8080/"
        },
        "id": "_gJ7ARzx3UFz",
        "outputId": "90888739-7257-4f0f-d68c-f85d7b5b9943"
      },
      "execution_count": 25,
      "outputs": [
        {
          "output_type": "stream",
          "name": "stdout",
          "text": [
            "1/1 [==============================] - 0s 84ms/step\n",
            "[0.988 1.572 1.609]\n",
            "[[0.69172597]\n",
            " [0.8198074 ]\n",
            " [1.8846104 ]]\n"
          ]
        }
      ]
    },
    {
      "cell_type": "code",
      "source": [
        "# 시각화해서 확인\n",
        "plt.plot(pd.DataFrame(history.history))\n",
        "plt.grid(True)\n",
        "plt.gca().set_ylim(0, 1)\n",
        "plt.show()\n"
      ],
      "metadata": {
        "colab": {
          "base_uri": "https://localhost:8080/",
          "height": 441
        },
        "id": "TsEBYc-s3UDK",
        "outputId": "4976fff1-9d1e-48f2-8781-407d037cfd4b"
      },
      "execution_count": 26,
      "outputs": [
        {
          "output_type": "display_data",
          "data": {
            "text/plain": [
              "<Figure size 640x480 with 1 Axes>"
            ],
            "image/png": "[encoded data removed]"
          },
          "metadata": {}
        }
      ]
    },
    {
      "cell_type": "markdown",
      "source": [
        "## Functional API"
      ],
      "metadata": {
        "id": "CS5pLJCF7dgL"
      }
    },
    {
      "cell_type": "markdown",
      "source": [
        "### 모델 생성"
      ],
      "metadata": {
        "id": "XO7g28eV8XhO"
      }
    },
    {
      "cell_type": "code",
      "source": [
        "# 입력 층을 생성 - 입력 층은 unit 이나 활성 함수가 의미 없음\n",
        "input_ = keras.layers.Input(shape=X_train.shape[1:])\n",
        "\n",
        "# input_ 다음에 연결되는 층을 생성\n",
        "hidden1 = keras.layers.Dense(30, activation=\"relu\")(input_)\n",
        "# hidden1 의 출력을 입력받는 층을 생성\n",
        "hidden2 = keras.layers.Dense(30, activation=\"relu\")(hidden1)\n",
        "\n",
        "# 이 층은 input_ 나 hidden2 의 출력을 입력으로 받는 층\n",
        "# 연결의 기능만 수행하는 층이라서 unit 이나 활성 함수가 없음\n",
        "concat = keras.layers.concatenate([input_, hidden2])\n",
        "\n",
        "# concat 의 출력을 입력으로 받는 출력 층\n",
        "output = keras.layers.Dense(1)(concat)\n",
        "\n",
        "# 함수형 모델 생성\n",
        "# inputs 에 input_ 층을, outputs 에 output 층을 설정\n",
        "model = keras.models.Model(inputs=[input_], outputs=[output])"
      ],
      "metadata": {
        "id": "hGQP2mNg3T91"
      },
      "execution_count": 27,
      "outputs": []
    },
    {
      "cell_type": "markdown",
      "source": [
        "### 모델 확인"
      ],
      "metadata": {
        "id": "4doiPJBt8eyq"
      }
    },
    {
      "cell_type": "code",
      "source": [
        "# 모델을 생성하는 부분만 다르고\n",
        "# 나머지는 Sequential API 와 동일\n",
        "\n",
        "model.compile(loss=\"mean_squared_error\",\n",
        "              optimizer=keras.optimizers.SGD(learning_rate = 1e-3),\n",
        "              metrics = tf.keras.metrics.MeanSquaredError())\n",
        "\n",
        "# 훈련\n",
        "history = model.fit(X_train, y_train, epochs=20, validation_data=(X_valid, y_valid))\n",
        "\n",
        "# 평가\n",
        "mse_test = model.evaluate(X_test, y_test)"
      ],
      "metadata": {
        "colab": {
          "base_uri": "https://localhost:8080/"
        },
        "id": "4XLSao1X6cc5",
        "outputId": "e8f6121e-b9dc-4052-e496-0a3483ba2e83"
      },
      "execution_count": 28,
      "outputs": [
        {
          "output_type": "stream",
          "name": "stdout",
          "text": [
            "Epoch 1/20\n",
            "363/363 [==============================] - 1s 3ms/step - loss: 1.4292 - mean_squared_error: 1.4292 - val_loss: 0.6941 - val_mean_squared_error: 0.6941\n",
            "Epoch 2/20\n",
            "363/363 [==============================] - 1s 2ms/step - loss: 0.6510 - mean_squared_error: 0.6510 - val_loss: 0.6150 - val_mean_squared_error: 0.6150\n",
            "Epoch 3/20\n",
            "363/363 [==============================] - 1s 2ms/step - loss: 0.5957 - mean_squared_error: 0.5957 - val_loss: 0.5895 - val_mean_squared_error: 0.5895\n",
            "Epoch 4/20\n",
            "363/363 [==============================] - 1s 2ms/step - loss: 0.5687 - mean_squared_error: 0.5687 - val_loss: 0.5595 - val_mean_squared_error: 0.5595\n",
            "Epoch 5/20\n",
            "363/363 [==============================] - 1s 3ms/step - loss: 0.5482 - mean_squared_error: 0.5482 - val_loss: 0.5435 - val_mean_squared_error: 0.5435\n",
            "Epoch 6/20\n",
            "363/363 [==============================] - 1s 3ms/step - loss: 0.5342 - mean_squared_error: 0.5342 - val_loss: 0.5311 - val_mean_squared_error: 0.5311\n",
            "Epoch 7/20\n",
            "363/363 [==============================] - 1s 3ms/step - loss: 0.5204 - mean_squared_error: 0.5204 - val_loss: 0.5187 - val_mean_squared_error: 0.5187\n",
            "Epoch 8/20\n",
            "363/363 [==============================] - 1s 3ms/step - loss: 0.5107 - mean_squared_error: 0.5107 - val_loss: 0.5094 - val_mean_squared_error: 0.5094\n",
            "Epoch 9/20\n",
            "363/363 [==============================] - 1s 2ms/step - loss: 0.5008 - mean_squared_error: 0.5008 - val_loss: 0.5040 - val_mean_squared_error: 0.5040\n",
            "Epoch 10/20\n",
            "363/363 [==============================] - 1s 2ms/step - loss: 0.4914 - mean_squared_error: 0.4914 - val_loss: 0.4900 - val_mean_squared_error: 0.4900\n",
            "Epoch 11/20\n",
            "363/363 [==============================] - 1s 2ms/step - loss: 0.4817 - mean_squared_error: 0.4817 - val_loss: 0.4952 - val_mean_squared_error: 0.4952\n",
            "Epoch 12/20\n",
            "363/363 [==============================] - 1s 2ms/step - loss: 0.4773 - mean_squared_error: 0.4773 - val_loss: 0.4803 - val_mean_squared_error: 0.4803\n",
            "Epoch 13/20\n",
            "363/363 [==============================] - 1s 2ms/step - loss: 0.4689 - mean_squared_error: 0.4689 - val_loss: 0.4679 - val_mean_squared_error: 0.4679\n",
            "Epoch 14/20\n",
            "363/363 [==============================] - 1s 2ms/step - loss: 0.4629 - mean_squared_error: 0.4629 - val_loss: 0.4607 - val_mean_squared_error: 0.4607\n",
            "Epoch 15/20\n",
            "363/363 [==============================] - 1s 2ms/step - loss: 0.4586 - mean_squared_error: 0.4586 - val_loss: 0.4555 - val_mean_squared_error: 0.4555\n",
            "Epoch 16/20\n",
            "363/363 [==============================] - 1s 2ms/step - loss: 0.4531 - mean_squared_error: 0.4531 - val_loss: 0.4501 - val_mean_squared_error: 0.4501\n",
            "Epoch 17/20\n",
            "363/363 [==============================] - 1s 2ms/step - loss: 0.4498 - mean_squared_error: 0.4498 - val_loss: 0.4459 - val_mean_squared_error: 0.4459\n",
            "Epoch 18/20\n",
            "363/363 [==============================] - 1s 2ms/step - loss: 0.4460 - mean_squared_error: 0.4460 - val_loss: 0.4413 - val_mean_squared_error: 0.4413\n",
            "Epoch 19/20\n",
            "363/363 [==============================] - 1s 2ms/step - loss: 0.4425 - mean_squared_error: 0.4425 - val_loss: 0.4384 - val_mean_squared_error: 0.4384\n",
            "Epoch 20/20\n",
            "363/363 [==============================] - 1s 2ms/step - loss: 0.4382 - mean_squared_error: 0.4382 - val_loss: 0.4349 - val_mean_squared_error: 0.4349\n",
            "162/162 [==============================] - 1s 4ms/step - loss: 0.4578 - mean_squared_error: 0.4578\n"
          ]
        }
      ]
    },
    {
      "cell_type": "code",
      "source": [
        "# 예측\n",
        "X_new = X_test[:3]\n",
        "y_pred = model.predict(X_new)\n",
        "\n",
        "print(y_test[:3])\n",
        "print(y_pred)"
      ],
      "metadata": {
        "colab": {
          "base_uri": "https://localhost:8080/"
        },
        "id": "Me7ej46X6ckW",
        "outputId": "5cea44fa-53fc-49a1-936b-65b1d05f022e"
      },
      "execution_count": 29,
      "outputs": [
        {
          "output_type": "stream",
          "name": "stdout",
          "text": [
            "1/1 [==============================] - 0s 61ms/step\n",
            "[0.988 1.572 1.609]\n",
            "[[0.4546582]\n",
            " [1.0223224]\n",
            " [1.8822273]]\n"
          ]
        }
      ]
    },
    {
      "cell_type": "code",
      "source": [
        "# 시각화해서 확인\n",
        "plt.plot(pd.DataFrame(history.history))\n",
        "plt.grid(True)\n",
        "plt.gca().set_ylim(0, 1)\n",
        "plt.show()"
      ],
      "metadata": {
        "colab": {
          "base_uri": "https://localhost:8080/",
          "height": 441
        },
        "id": "ty3EGsn86cmq",
        "outputId": "e57d5ddd-a7bf-4efb-fbcb-347fcdd42a64"
      },
      "execution_count": 30,
      "outputs": [
        {
          "output_type": "display_data",
          "data": {
            "text/plain": [
              "<Figure size 640x480 with 1 Axes>"
            ],
            "image/png": "[encoded data removed]"
          },
          "metadata": {}
        }
      ]
    },
    {
      "cell_type": "markdown",
      "source": [
        "## 입력이 2개인 Functional API"
      ],
      "metadata": {
        "id": "-nukNxIwPf6M"
      }
    },
    {
      "cell_type": "code",
      "source": [
        "np.random.seed(21)\n",
        "tf.random.set_seed(21)\n",
        "\n",
        "# 입력이 2개 - 입력 데이터를 2개의 묶음으로 나눠서 각각의 레이어로 보냄\n",
        "input_A = keras.layers.Input(shape=[5], name=\"wide_input\")\n",
        "input_B = keras.layers.Input(shape=[6], name=\"deep_input\")\n",
        "\n",
        "# input_B 의 출력을 입력으로 사용\n",
        "hidden1 = keras.layers.Dense(30, activation=\"relu\")(input_B)\n",
        "# hidden 1 의 출력을 입력으로 사용\n",
        "hidden2 = keras.layers.Dense(30, activation=\"relu\")(hidden1)\n",
        "\n",
        "# concatenate 를 사용해서 input_A 와 hidden2 의 출력을 묶어서 입력받음\n",
        "concat = keras.layers.concatenate([input_A, hidden2])\n",
        "\n",
        "output = keras.layers.Dense(1, name=\"output\")(concat)\n",
        "\n",
        "# 모델을 만들 때 2개의 입력을 사용하도록 설정\n",
        "# fit 을 사용해서 훈련할 때에도 훈련 데이터가 2개 필요함\n",
        "model = keras.models.Model(inputs=[input_A, input_B], outputs=[output])"
      ],
      "metadata": {
        "id": "Rxo7mx9y3T51"
      },
      "execution_count": 31,
      "outputs": []
    },
    {
      "cell_type": "markdown",
      "source": [
        "### 모델을 훈련"
      ],
      "metadata": {
        "id": "4FBKCn15QCcm"
      }
    },
    {
      "cell_type": "code",
      "source": [
        "# 컴파일은 동일\n",
        "model.compile(loss=\"mse\", optimizer=keras.optimizers.SGD(learning_rate = 1e-3))\n",
        "\n",
        "# 입력을 2개로 만들어야 하기 때문에 기존의 데이터를 다시 2개로 분리\n",
        "X_train_A, X_train_B = X_train[:, :5], X_train[:, 2:]\n",
        "X_valid_A, X_valid_B = X_valid[:, :5], X_valid[:, 2:]\n",
        "X_test_A, X_test_B = X_test[:, :5], X_test[:, 2:]\n",
        "X_new_A, X_new_B = X_test_A[:3], X_test_B[:3]\n",
        "\n",
        "# 동일한 과정으로 훈련\n",
        "# 차이점은 2개의 데이터를 입력으로 사용한다는 점\n",
        "history = model.fit((X_train_A, X_train_B), y_train, epochs=20,\n",
        "                  validation_data=((X_valid_A, X_valid_B), y_valid))\n",
        "\n",
        "mse_test = model.evaluate((X_test_A, X_test_B), y_test)\n",
        "\n",
        "y_pred = model.predict((X_new_A, X_new_B))\n"
      ],
      "metadata": {
        "colab": {
          "base_uri": "https://localhost:8080/"
        },
        "id": "tHocQ7mdQCGG",
        "outputId": "9360f5a1-33de-4dfb-a32a-2929d9b6ecf7"
      },
      "execution_count": 33,
      "outputs": [
        {
          "output_type": "stream",
          "name": "stdout",
          "text": [
            "Epoch 1/20\n",
            "363/363 [==============================] - 3s 6ms/step - loss: 0.5552 - val_loss: 0.5763\n",
            "Epoch 2/20\n",
            "363/363 [==============================] - 13s 37ms/step - loss: 0.5362 - val_loss: 0.5457\n",
            "Epoch 3/20\n",
            "363/363 [==============================] - 1s 2ms/step - loss: 0.5251 - val_loss: 0.5362\n",
            "Epoch 4/20\n",
            "363/363 [==============================] - 1s 2ms/step - loss: 0.5181 - val_loss: 0.5260\n",
            "Epoch 5/20\n",
            "363/363 [==============================] - 1s 2ms/step - loss: 0.5123 - val_loss: 0.5198\n",
            "Epoch 6/20\n",
            "363/363 [==============================] - 1s 2ms/step - loss: 0.5071 - val_loss: 0.5144\n",
            "Epoch 7/20\n",
            "363/363 [==============================] - 1s 3ms/step - loss: 0.5013 - val_loss: 0.5090\n",
            "Epoch 8/20\n",
            "363/363 [==============================] - 1s 4ms/step - loss: 0.4965 - val_loss: 0.5055\n",
            "Epoch 9/20\n",
            "363/363 [==============================] - 2s 6ms/step - loss: 0.4915 - val_loss: 0.4986\n",
            "Epoch 10/20\n",
            "363/363 [==============================] - 2s 5ms/step - loss: 0.4872 - val_loss: 0.4940\n",
            "Epoch 11/20\n",
            "363/363 [==============================] - 1s 2ms/step - loss: 0.4822 - val_loss: 0.4925\n",
            "Epoch 12/20\n",
            "363/363 [==============================] - 1s 2ms/step - loss: 0.4786 - val_loss: 0.4850\n",
            "Epoch 13/20\n",
            "363/363 [==============================] - 1s 2ms/step - loss: 0.4744 - val_loss: 0.4814\n",
            "Epoch 14/20\n",
            "363/363 [==============================] - 1s 2ms/step - loss: 0.4701 - val_loss: 0.4763\n",
            "Epoch 15/20\n",
            "363/363 [==============================] - 1s 2ms/step - loss: 0.4666 - val_loss: 0.4728\n",
            "Epoch 16/20\n",
            "363/363 [==============================] - 1s 2ms/step - loss: 0.4627 - val_loss: 0.4691\n",
            "Epoch 17/20\n",
            "363/363 [==============================] - 1s 2ms/step - loss: 0.4596 - val_loss: 0.4650\n",
            "Epoch 18/20\n",
            "363/363 [==============================] - 1s 2ms/step - loss: 0.4560 - val_loss: 0.4613\n",
            "Epoch 19/20\n",
            "363/363 [==============================] - 1s 2ms/step - loss: 0.4525 - val_loss: 0.4576\n",
            "Epoch 20/20\n",
            "363/363 [==============================] - 1s 2ms/step - loss: 0.4488 - val_loss: 0.4539\n",
            "162/162 [==============================] - 0s 1ms/step - loss: 0.4678\n",
            "1/1 [==============================] - 0s 67ms/step\n"
          ]
        }
      ]
    },
    {
      "cell_type": "markdown",
      "source": [
        "## 출력이 여러 개인 Functional API"
      ],
      "metadata": {
        "id": "szQUPxJGSGIl"
      }
    },
    {
      "cell_type": "code",
      "source": [
        "np.random.seed(21)\n",
        "tf.random.set_seed(21)\n",
        "\n",
        "# 입력 층이 2개\n",
        "input_A = keras.layers.Input(shape=[5], name=\"wide_input\")\n",
        "input_B = keras.layers.Input(shape=[6], name=\"deep_input\")\n",
        "\n",
        "hidden1 = keras.layers.Dense(30, activation=\"relu\")(input_B)\n",
        "hidden2 = keras.layers.Dense(30, activation=\"relu\")(hidden1)\n",
        "\n",
        "concat = keras.layers.concatenate([input_A, hidden2])\n",
        "\n",
        "# 출력층1 - activation 이 없음\n",
        "output = keras.layers.Dense(1, name=\"main_output\")(concat)\n",
        "# 출력층 2\n",
        "aux_output = keras.layers.Dense(1, name=\"aux_output\")(hidden2)\n",
        "\n",
        "# 모델에 보조 출력 추가하기\n",
        "# 입력과 출력 모두 2개 - 모두 list 를 사용해서 여러 개를 지정\n",
        "model = keras.models.Model(inputs=[input_A, input_B],\n",
        "        outputs=[output, aux_output])"
      ],
      "metadata": {
        "id": "HNByUnIYObIu"
      },
      "execution_count": 34,
      "outputs": []
    },
    {
      "cell_type": "markdown",
      "source": [
        "### 보조 출력이 추가된 모델 컴파일"
      ],
      "metadata": {
        "id": "dYmXX9K1VksC"
      }
    },
    {
      "cell_type": "code",
      "source": [
        "# 각 모델에 사용할 loss function 을 리스트로 작성\n",
        "# 더 중요하게 생각하는 output 에 대해 가중치를 설정할 수 있음\n",
        "# ex) 자율주행에서는 사람을 인식하는 중요도가 자동차 인식보다 중요\n",
        "model.compile(loss=[\"mse\", \"mse\"], loss_weights=[0.9, 0.1],\n",
        "      optimizer=keras.optimizers.SGD(learning_rate = 1e-3))"
      ],
      "metadata": {
        "id": "rqmF2tN71J8M"
      },
      "execution_count": 36,
      "outputs": []
    },
    {
      "cell_type": "markdown",
      "source": [
        "### 모델 훈련"
      ],
      "metadata": {
        "id": "3ca2mXD3WmUg"
      }
    },
    {
      "cell_type": "code",
      "source": [
        "X_train_A, X_train_B = X_train[:, :5], X_train[:, 2:]\n",
        "X_valid_A, X_valid_B = X_valid[:, :5], X_valid[:, 2:]\n",
        "X_test_A, X_test_B = X_test[:, :5], X_test[:, 2:]\n",
        "X_new_A, X_new_B = X_test_A[:3], X_test_B[:3]\n",
        "\n",
        "# 동일한 과정으로 훈련\n",
        "# 차이점은 2개의 데이터를 입력으로 사용한다는 점\n",
        "history = model.fit((X_train_A, X_train_B), y_train, epochs=20,\n",
        "                  validation_data=((X_valid_A, X_valid_B), y_valid))\n",
        "\n",
        "mse_test = model.evaluate((X_test_A, X_test_B), y_test)\n",
        "\n",
        "y_pred = model.predict((X_new_A, X_new_B))"
      ],
      "metadata": {
        "colab": {
          "base_uri": "https://localhost:8080/"
        },
        "id": "bm1KioMPWkoE",
        "outputId": "74b03d4f-b9a2-46ac-b428-5f1aae91df47"
      },
      "execution_count": 38,
      "outputs": [
        {
          "output_type": "stream",
          "name": "stdout",
          "text": [
            "Epoch 1/20\n",
            "363/363 [==============================] - 2s 3ms/step - loss: 2.4921 - main_output_loss: 2.2140 - aux_output_loss: 4.9954 - val_loss: 1.4085 - val_main_output_loss: 1.1365 - val_aux_output_loss: 3.8567\n",
            "Epoch 2/20\n",
            "363/363 [==============================] - 1s 2ms/step - loss: 1.0532 - main_output_loss: 0.8452 - aux_output_loss: 2.9255 - val_loss: 0.9321 - val_main_output_loss: 0.7719 - val_aux_output_loss: 2.3746\n",
            "Epoch 3/20\n",
            "363/363 [==============================] - 1s 2ms/step - loss: 0.8467 - main_output_loss: 0.7133 - aux_output_loss: 2.0476 - val_loss: 0.8172 - val_main_output_loss: 0.7065 - val_aux_output_loss: 1.8132\n",
            "Epoch 4/20\n",
            "363/363 [==============================] - 1s 3ms/step - loss: 0.7647 - main_output_loss: 0.6672 - aux_output_loss: 1.6431 - val_loss: 0.7483 - val_main_output_loss: 0.6629 - val_aux_output_loss: 1.5167\n",
            "Epoch 5/20\n",
            "363/363 [==============================] - 2s 5ms/step - loss: 0.7165 - main_output_loss: 0.6368 - aux_output_loss: 1.4336 - val_loss: 0.7091 - val_main_output_loss: 0.6358 - val_aux_output_loss: 1.3691\n",
            "Epoch 6/20\n",
            "363/363 [==============================] - 1s 3ms/step - loss: 0.6847 - main_output_loss: 0.6144 - aux_output_loss: 1.3172 - val_loss: 0.6814 - val_main_output_loss: 0.6146 - val_aux_output_loss: 1.2820\n",
            "Epoch 7/20\n",
            "363/363 [==============================] - 3s 8ms/step - loss: 0.6585 - main_output_loss: 0.5933 - aux_output_loss: 1.2452 - val_loss: 0.6579 - val_main_output_loss: 0.5956 - val_aux_output_loss: 1.2189\n",
            "Epoch 8/20\n",
            "363/363 [==============================] - 2s 7ms/step - loss: 0.6384 - main_output_loss: 0.5765 - aux_output_loss: 1.1954 - val_loss: 0.6452 - val_main_output_loss: 0.5866 - val_aux_output_loss: 1.1730\n",
            "Epoch 9/20\n",
            "363/363 [==============================] - 2s 5ms/step - loss: 0.6210 - main_output_loss: 0.5620 - aux_output_loss: 1.1513 - val_loss: 0.6209 - val_main_output_loss: 0.5633 - val_aux_output_loss: 1.1388\n",
            "Epoch 10/20\n",
            "363/363 [==============================] - 1s 2ms/step - loss: 0.6054 - main_output_loss: 0.5483 - aux_output_loss: 1.1198 - val_loss: 0.6065 - val_main_output_loss: 0.5508 - val_aux_output_loss: 1.1077\n",
            "Epoch 11/20\n",
            "363/363 [==============================] - 1s 3ms/step - loss: 0.5897 - main_output_loss: 0.5340 - aux_output_loss: 1.0917 - val_loss: 0.6027 - val_main_output_loss: 0.5498 - val_aux_output_loss: 1.0787\n",
            "Epoch 12/20\n",
            "363/363 [==============================] - 1s 3ms/step - loss: 0.5814 - main_output_loss: 0.5278 - aux_output_loss: 1.0634 - val_loss: 0.5803 - val_main_output_loss: 0.5278 - val_aux_output_loss: 1.0527\n",
            "Epoch 13/20\n",
            "363/363 [==============================] - 2s 4ms/step - loss: 0.5692 - main_output_loss: 0.5169 - aux_output_loss: 1.0390 - val_loss: 0.5703 - val_main_output_loss: 0.5193 - val_aux_output_loss: 1.0295\n",
            "Epoch 14/20\n",
            "363/363 [==============================] - 1s 4ms/step - loss: 0.5582 - main_output_loss: 0.5074 - aux_output_loss: 1.0148 - val_loss: 0.5583 - val_main_output_loss: 0.5083 - val_aux_output_loss: 1.0085\n",
            "Epoch 15/20\n",
            "363/363 [==============================] - 2s 6ms/step - loss: 0.5505 - main_output_loss: 0.5013 - aux_output_loss: 0.9938 - val_loss: 0.5493 - val_main_output_loss: 0.5005 - val_aux_output_loss: 0.9883\n",
            "Epoch 16/20\n",
            "363/363 [==============================] - 1s 4ms/step - loss: 0.5418 - main_output_loss: 0.4939 - aux_output_loss: 0.9736 - val_loss: 0.5405 - val_main_output_loss: 0.4930 - val_aux_output_loss: 0.9686\n",
            "Epoch 17/20\n",
            "363/363 [==============================] - 1s 4ms/step - loss: 0.5352 - main_output_loss: 0.4889 - aux_output_loss: 0.9525 - val_loss: 0.5326 - val_main_output_loss: 0.4862 - val_aux_output_loss: 0.9496\n",
            "Epoch 18/20\n",
            "363/363 [==============================] - 1s 3ms/step - loss: 0.5275 - main_output_loss: 0.4824 - aux_output_loss: 0.9333 - val_loss: 0.5249 - val_main_output_loss: 0.4799 - val_aux_output_loss: 0.9301\n",
            "Epoch 19/20\n",
            "363/363 [==============================] - 1s 4ms/step - loss: 0.5192 - main_output_loss: 0.4753 - aux_output_loss: 0.9142 - val_loss: 0.5176 - val_main_output_loss: 0.4738 - val_aux_output_loss: 0.9121\n",
            "Epoch 20/20\n",
            "363/363 [==============================] - 2s 4ms/step - loss: 0.5122 - main_output_loss: 0.4695 - aux_output_loss: 0.8959 - val_loss: 0.5115 - val_main_output_loss: 0.4686 - val_aux_output_loss: 0.8968\n",
            "162/162 [==============================] - 0s 2ms/step - loss: 0.5307 - main_output_loss: 0.4877 - aux_output_loss: 0.9172\n",
            "1/1 [==============================] - 0s 43ms/step\n"
          ]
        }
      ]
    },
    {
      "cell_type": "markdown",
      "source": [
        "### 모델 평가"
      ],
      "metadata": {
        "id": "rPnS4Q8TWQ42"
      }
    },
    {
      "cell_type": "code",
      "source": [
        "total_loss, main_loss, aux_loss = model.evaluate(\n",
        "      [X_test_A, X_test_B], [y_test, y_test])\n",
        "\n",
        "y_pred_main, y_pred_aux = model.predict([X_new_A, X_new_B])\n"
      ],
      "metadata": {
        "id": "VdKx5hN7KK7t",
        "colab": {
          "base_uri": "https://localhost:8080/"
        },
        "outputId": "38ac76dc-4fc9-4647-cb6c-34ee852369e4"
      },
      "execution_count": 41,
      "outputs": [
        {
          "output_type": "stream",
          "name": "stdout",
          "text": [
            "162/162 [==============================] - 0s 2ms/step - loss: 0.5307 - main_output_loss: 0.4877 - aux_output_loss: 0.9172\n",
            "1/1 [==============================] - 0s 43ms/step\n"
          ]
        }
      ]
    },
    {
      "cell_type": "markdown",
      "source": [
        "# 상속(SubClassing)을 이용한 방식"
      ],
      "metadata": {
        "id": "EJZXlGOQiI7H"
      }
    },
    {
      "cell_type": "code",
      "source": [
        "# keras 의 Model 클래스 상속\n",
        "class WideAndDeepModel(keras.models.Model):\n",
        "  # __init__ 은 파이썬 클래스의 초기화 함수 - 생성자와 유사함\n",
        "  # __init__ 을 overriding(재정의) 할 때는 상위 클래스의 __init__ 을 반드시 호출해야 함\n",
        "  def __init__(self, units=30, activation=\"relu\", **kwargs):\n",
        "    super().__init__(**kwargs)\n",
        "    self.hidden1 = keras.layers.Dense(units, activation=activation)\n",
        "    self.hidden2 = keras.layers.Dense(units, activation=activation)\n",
        "    self.main_output = keras.layers.Dense(1)\n",
        "    self.aux_output = keras.layers.Dense(1)\n",
        "\n",
        "  # 모델이 수행할 동작을 갖는 method\n",
        "  def call(self, inputs):\n",
        "    input_A, input_B = inputs\n",
        "    hidden1 = self.hidden1(input_B)\n",
        "    hidden2 = self.hidden2(hidden1)\n",
        "    concat = keras.layers.concatenate([input_A, hidden2])\n",
        "    main_output = self.main_output(concat)\n",
        "    aux_output = self.aux_output(hidden2)\n",
        "\n",
        "    return main_output, aux_output\n",
        "\n",
        "# Model 인스턴스를 생성하면 __init__ 에 작성한 내용이 자동으로 수행됨\n",
        "model = WideAndDeepModel(30, activation=\"relu\")"
      ],
      "metadata": {
        "id": "lIJxx4mjObTU"
      },
      "execution_count": 43,
      "outputs": []
    },
    {
      "cell_type": "code",
      "source": [
        "# 컴파일 및 훈련 과정은 이전과 동일함\n",
        "# 모델을 만드는 과정이 달라졌을 뿐\n",
        "\n",
        "model.compile(loss=\"mse\", loss_weights=[0.9, 0.1],\n",
        "  optimizer=keras.optimizers.SGD(learning_rate = 1e-3))\n",
        "\n",
        "history = model.fit((X_train_A, X_train_B), (y_train, y_train), epochs=10,\n",
        "  validation_data=((X_valid_A, X_valid_B), (y_valid, y_valid)))\n",
        "\n",
        "total_loss, main_loss, aux_loss = model.evaluate((X_test_A, X_test_B), (y_test, y_test))\n",
        "\n",
        "y_pred_main, y_pred_aux = model.predict((X_new_A, X_new_B))"
      ],
      "metadata": {
        "colab": {
          "base_uri": "https://localhost:8080/"
        },
        "id": "KOmbat2BObQ8",
        "outputId": "98400d84-6064-4241-d113-46a372b8114b"
      },
      "execution_count": 44,
      "outputs": [
        {
          "output_type": "stream",
          "name": "stderr",
          "text": [
            "WARNING:absl:`lr` is deprecated in Keras optimizer, please use `learning_rate` or use the legacy optimizer, e.g.,tf.keras.optimizers.legacy.SGD.\n"
          ]
        },
        {
          "output_type": "stream",
          "name": "stdout",
          "text": [
            "Epoch 1/10\n",
            "363/363 [==============================] - 4s 6ms/step - loss: 0.8982 - output_1_loss: 0.8172 - output_2_loss: 1.6272 - val_loss: 1.1964 - val_output_1_loss: 1.2054 - val_output_2_loss: 1.1160\n",
            "Epoch 2/10\n",
            "363/363 [==============================] - 1s 3ms/step - loss: 0.6239 - output_1_loss: 0.5780 - output_2_loss: 1.0370 - val_loss: 0.5276 - val_output_1_loss: 0.4741 - val_output_2_loss: 1.0091\n",
            "Epoch 3/10\n",
            "363/363 [==============================] - 1s 3ms/step - loss: 0.5080 - output_1_loss: 0.4625 - output_2_loss: 0.9181 - val_loss: 1.0034 - val_output_1_loss: 0.9858 - val_output_2_loss: 1.1615\n",
            "Epoch 4/10\n",
            "363/363 [==============================] - 1s 3ms/step - loss: 0.4999 - output_1_loss: 0.4627 - output_2_loss: 0.8348 - val_loss: 0.6171 - val_output_1_loss: 0.5908 - val_output_2_loss: 0.8536\n",
            "Epoch 5/10\n",
            "363/363 [==============================] - 1s 3ms/step - loss: 0.4680 - output_1_loss: 0.4363 - output_2_loss: 0.7530 - val_loss: 0.5081 - val_output_1_loss: 0.4803 - val_output_2_loss: 0.7588\n",
            "Epoch 6/10\n",
            "363/363 [==============================] - 1s 3ms/step - loss: 0.4767 - output_1_loss: 0.4510 - output_2_loss: 0.7084 - val_loss: 0.4483 - val_output_1_loss: 0.4219 - val_output_2_loss: 0.6852\n",
            "Epoch 7/10\n",
            "363/363 [==============================] - 1s 3ms/step - loss: 0.4309 - output_1_loss: 0.4061 - output_2_loss: 0.6540 - val_loss: 0.4315 - val_output_1_loss: 0.4066 - val_output_2_loss: 0.6562\n",
            "Epoch 8/10\n",
            "363/363 [==============================] - 1s 3ms/step - loss: 0.4578 - output_1_loss: 0.4388 - output_2_loss: 0.6289 - val_loss: 0.5181 - val_output_1_loss: 0.4945 - val_output_2_loss: 0.7308\n",
            "Epoch 9/10\n",
            "363/363 [==============================] - 1s 3ms/step - loss: 0.4774 - output_1_loss: 0.4595 - output_2_loss: 0.6386 - val_loss: 0.4203 - val_output_1_loss: 0.3982 - val_output_2_loss: 0.6191\n",
            "Epoch 10/10\n",
            "363/363 [==============================] - 1s 3ms/step - loss: 0.4127 - output_1_loss: 0.3939 - output_2_loss: 0.5813 - val_loss: 0.4059 - val_output_1_loss: 0.3867 - val_output_2_loss: 0.5782\n",
            "162/162 [==============================] - 1s 4ms/step - loss: 0.4137 - output_1_loss: 0.3957 - output_2_loss: 0.5753\n"
          ]
        },
        {
          "output_type": "stream",
          "name": "stderr",
          "text": [
            "WARNING:tensorflow:5 out of the last 9 calls to <function Model.make_predict_function.<locals>.predict_function at 0x7a0b172429e0> triggered tf.function retracing. Tracing is expensive and the excessive number of tracings could be due to (1) creating @tf.function repeatedly in a loop, (2) passing tensors with different shapes, (3) passing Python objects instead of tensors. For (1), please define your @tf.function outside of the loop. For (2), @tf.function has reduce_retracing=True option that can avoid unnecessary retracing. For (3), please refer to https://www.tensorflow.org/guide/function#controlling_retracing and https://www.tensorflow.org/api_docs/python/tf/function for  more details.\n"
          ]
        },
        {
          "output_type": "stream",
          "name": "stdout",
          "text": [
            "1/1 [==============================] - 0s 162ms/step\n"
          ]
        }
      ]
    },
    {
      "cell_type": "markdown",
      "source": [
        "# 모델을 저장하고 복원"
      ],
      "metadata": {
        "id": "mZeLmk_xlArp"
      }
    },
    {
      "cell_type": "code",
      "source": [
        "# 모델을 만들고 컴파일, 훈련 과정은 동일\n",
        "model = keras.models.Sequential([\n",
        "  keras.layers.Dense(30, activation=\"relu\", input_shape=[8]),\n",
        "  keras.layers.Dense(30, activation=\"relu\"),\n",
        "  keras.layers.Dense(1)\n",
        "])\n",
        "\n",
        "model.compile(loss=\"mse\", optimizer=keras.optimizers.SGD(lr=1e-3))\n",
        "\n",
        "history = model.fit(X_train, y_train, epochs=10, validation_data=(X_valid, y_valid))\n",
        "\n",
        "mse_test = model.evaluate(X_test, y_test)\n"
      ],
      "metadata": {
        "colab": {
          "base_uri": "https://localhost:8080/"
        },
        "id": "cWEsv_kilD7T",
        "outputId": "884fae69-62ca-4f99-8527-04b2ee8aa196"
      },
      "execution_count": 45,
      "outputs": [
        {
          "output_type": "stream",
          "name": "stderr",
          "text": [
            "WARNING:absl:`lr` is deprecated in Keras optimizer, please use `learning_rate` or use the legacy optimizer, e.g.,tf.keras.optimizers.legacy.SGD.\n"
          ]
        },
        {
          "output_type": "stream",
          "name": "stdout",
          "text": [
            "Epoch 1/10\n",
            "363/363 [==============================] - 2s 4ms/step - loss: 0.7995 - val_loss: 0.8966\n",
            "Epoch 2/10\n",
            "363/363 [==============================] - 1s 3ms/step - loss: 0.5291 - val_loss: 0.5418\n",
            "Epoch 3/10\n",
            "363/363 [==============================] - 1s 2ms/step - loss: 0.4545 - val_loss: 0.5806\n",
            "Epoch 4/10\n",
            "363/363 [==============================] - 1s 2ms/step - loss: 0.4275 - val_loss: 0.4383\n",
            "Epoch 5/10\n",
            "363/363 [==============================] - 1s 2ms/step - loss: 0.4108 - val_loss: 0.4152\n",
            "Epoch 6/10\n",
            "363/363 [==============================] - 1s 2ms/step - loss: 0.4106 - val_loss: 0.4155\n",
            "Epoch 7/10\n",
            "363/363 [==============================] - 1s 2ms/step - loss: 0.3893 - val_loss: 0.4572\n",
            "Epoch 8/10\n",
            "363/363 [==============================] - 1s 2ms/step - loss: 0.3806 - val_loss: 0.4463\n",
            "Epoch 9/10\n",
            "363/363 [==============================] - 1s 2ms/step - loss: 0.3748 - val_loss: 0.3849\n",
            "Epoch 10/10\n",
            "363/363 [==============================] - 1s 2ms/step - loss: 0.3588 - val_loss: 0.3563\n",
            "162/162 [==============================] - 0s 2ms/step - loss: 0.3721\n"
          ]
        }
      ]
    },
    {
      "cell_type": "code",
      "source": [
        "# 모델 저장 - 현재 디렉토리에 저장됨\n",
        "# 디렉토리에서 확인 가능\n",
        "# 다운로드 받아서 다른 곳으로 이동 가능\n",
        "\n",
        "# 매개변수는 파일의 이름\n",
        "model.save(\"my_keras_model.h5\")"
      ],
      "metadata": {
        "id": "xFWs1m2dlD4z"
      },
      "execution_count": 46,
      "outputs": []
    },
    {
      "cell_type": "code",
      "source": [
        "# 저장되어 있는 모델을 복원\n",
        "model = keras.models.load_model(\"my_keras_model.h5\")\n",
        "\n",
        "# 복원된 모델을 가지고 확인\n",
        "model.predict(X_new)"
      ],
      "metadata": {
        "colab": {
          "base_uri": "https://localhost:8080/"
        },
        "id": "ze0MoRMQlD2L",
        "outputId": "c8e2916a-400b-4d6b-8e61-75c8550d5f19"
      },
      "execution_count": 47,
      "outputs": [
        {
          "output_type": "stream",
          "name": "stderr",
          "text": [
            "WARNING:tensorflow:6 out of the last 10 calls to <function Model.make_predict_function.<locals>.predict_function at 0x7a0b48390dc0> triggered tf.function retracing. Tracing is expensive and the excessive number of tracings could be due to (1) creating @tf.function repeatedly in a loop, (2) passing tensors with different shapes, (3) passing Python objects instead of tensors. For (1), please define your @tf.function outside of the loop. For (2), @tf.function has reduce_retracing=True option that can avoid unnecessary retracing. For (3), please refer to https://www.tensorflow.org/guide/function#controlling_retracing and https://www.tensorflow.org/api_docs/python/tf/function for  more details.\n"
          ]
        },
        {
          "output_type": "stream",
          "name": "stdout",
          "text": [
            "1/1 [==============================] - 0s 58ms/step\n"
          ]
        },
        {
          "output_type": "execute_result",
          "data": {
            "text/plain": [
              "array([[0.88818204],\n",
              "       [1.063429  ],\n",
              "       [1.6605843 ]], dtype=float32)"
            ]
          },
          "metadata": {},
          "execution_count": 47
        }
      ]
    },
    {
      "cell_type": "markdown",
      "source": [
        "## 모델의 가중치만 저장, 복원"
      ],
      "metadata": {
        "id": "QNSrvUalmuFB"
      }
    },
    {
      "cell_type": "code",
      "source": [
        "# 가중치 저장 - 일반벅으로 확장자 명으로 ckpt 를 사용함\n",
        "model.save_weights(\"my_keras_weights.ckpt\")\n",
        "\n",
        "# 가중치 불러오기\n",
        "model.load_weights(\"my_keras_weights.ckpt\")"
      ],
      "metadata": {
        "colab": {
          "base_uri": "https://localhost:8080/"
        },
        "id": "ATCaknh4lDzu",
        "outputId": "040a55a8-57dd-4be5-d958-a166614069f5"
      },
      "execution_count": 48,
      "outputs": [
        {
          "output_type": "execute_result",
          "data": {
            "text/plain": [
              "<tensorflow.python.checkpoint.checkpoint.CheckpointLoadStatus at 0x7a0b250ac940>"
            ]
          },
          "metadata": {},
          "execution_count": 48
        }
      ]
    },
    {
      "cell_type": "markdown",
      "source": [
        "# 콜 백(callback)"
      ],
      "metadata": {
        "id": "0aGLrp9Hm22B"
      }
    },
    {
      "cell_type": "code",
      "source": [
        "# 모델 생성\n",
        "keras.backend.clear_session()\n",
        "np.random.seed(42)\n",
        "tf.random.set_seed(42)\n",
        "\n",
        "model = keras.models.Sequential([\n",
        "  keras.layers.Dense(30, activation=\"relu\", input_shape=[8]),\n",
        "  keras.layers.Dense(30, activation=\"relu\"),\n",
        "  keras.layers.Dense(1)\n",
        "])"
      ],
      "metadata": {
        "id": "Q7y0eV-3lDxY"
      },
      "execution_count": 49,
      "outputs": []
    },
    {
      "cell_type": "markdown",
      "source": [
        "## 체크 포인트"
      ],
      "metadata": {
        "id": "WzQgMcyvpOnL"
      }
    },
    {
      "cell_type": "code",
      "source": [
        "model.compile(loss=\"mse\", optimizer=keras.optimizers.SGD(lr=1e-3))\n",
        "\n",
        "# 체크 포인트 생성\n",
        "# 체크 포인트의 이름을 매개변수로 지정 - my_keras_model.h5\n",
        "# 최적의 모델을 저장 - save_best_only\n",
        "checkpoint_cb = keras.callbacks.ModelCheckpoint(\"my_keras_model.h5\",\n",
        "  save_best_only=True)\n",
        "\n",
        "# 모델을 훈련시킬 때 callback 을 매개변수를 사용해서 지정\n",
        "# list 형태로 사용할 callback 을 지정\n",
        "history = model.fit(X_train, y_train, epochs=10,\n",
        "  validation_data=(X_valid, y_valid),\n",
        "  callbacks=[checkpoint_cb])\n",
        "\n",
        "# 가장 좋은 모델을 가져와서 롤백\n",
        "model = keras.models.load_model(\"my_keras_model.h5\")\n",
        "\n",
        "mse_test = model.evaluate(X_test, y_test)\n"
      ],
      "metadata": {
        "colab": {
          "base_uri": "https://localhost:8080/"
        },
        "id": "8sPsRIvdlDuo",
        "outputId": "3ea15ab5-991e-4d1e-9dec-b79c12092181"
      },
      "execution_count": 50,
      "outputs": [
        {
          "output_type": "stream",
          "name": "stderr",
          "text": [
            "WARNING:absl:`lr` is deprecated in Keras optimizer, please use `learning_rate` or use the legacy optimizer, e.g.,tf.keras.optimizers.legacy.SGD.\n"
          ]
        },
        {
          "output_type": "stream",
          "name": "stdout",
          "text": [
            "Epoch 1/10\n",
            "363/363 [==============================] - 2s 5ms/step - loss: 0.8201 - val_loss: 0.6622\n",
            "Epoch 2/10\n",
            "363/363 [==============================] - 2s 4ms/step - loss: 0.4502 - val_loss: 0.6259\n",
            "Epoch 3/10\n",
            "363/363 [==============================] - 1s 3ms/step - loss: 0.4114 - val_loss: 0.5400\n",
            "Epoch 4/10\n",
            "363/363 [==============================] - 1s 3ms/step - loss: 0.4131 - val_loss: 2.8063\n",
            "Epoch 5/10\n",
            "363/363 [==============================] - 1s 4ms/step - loss: 0.4149 - val_loss: 0.4398\n",
            "Epoch 6/10\n",
            "363/363 [==============================] - 1s 4ms/step - loss: 0.3904 - val_loss: 0.4597\n",
            "Epoch 7/10\n",
            "363/363 [==============================] - 1s 3ms/step - loss: 0.3906 - val_loss: 0.4330\n",
            "Epoch 8/10\n",
            "363/363 [==============================] - 1s 3ms/step - loss: 0.3704 - val_loss: 0.3619\n",
            "Epoch 9/10\n",
            "363/363 [==============================] - 1s 3ms/step - loss: 0.3627 - val_loss: 0.3603\n",
            "Epoch 10/10\n",
            "363/363 [==============================] - 1s 3ms/step - loss: 0.3563 - val_loss: 0.3490\n",
            "162/162 [==============================] - 0s 2ms/step - loss: 0.3657\n"
          ]
        }
      ]
    },
    {
      "cell_type": "markdown",
      "source": [
        "## 조기 종료"
      ],
      "metadata": {
        "id": "D2ksjzEXpr8a"
      }
    },
    {
      "cell_type": "code",
      "source": [
        "# 조기 종료\n",
        "\n",
        "# patience 를 지정하는데 patience 동안 loss 가 줄어들지 않으면\n",
        "# 훈련을 조기 중단하는 callback\n",
        "early_stopping_cb = keras.callbacks.EarlyStopping(patience=10,\n",
        "    restore_best_weights=True)\n",
        "\n",
        "# callback 으로 체크 포인트와 조기 종료를 사용\n",
        "history = model.fit(X_train, y_train, epochs=100,\n",
        "  validation_data=(X_valid, y_valid),\n",
        "  callbacks=[checkpoint_cb, early_stopping_cb])\n",
        "# 학습을 진행하다가 77번 epoch 에서 조기 종료됨\n",
        "# 이후 다음 코드를 이어서 진행\n",
        "\n",
        "mse_test = model.evaluate(X_test, y_test)\n"
      ],
      "metadata": {
        "id": "C6DJKTWKObeC"
      },
      "execution_count": null,
      "outputs": []
    },
    {
      "cell_type": "markdown",
      "source": [
        "## 학습률 스케쥴러(LearningRateScheduler)"
      ],
      "metadata": {
        "id": "NJsx0PE-q4Vg"
      }
    },
    {
      "cell_type": "code",
      "source": [
        "def scheduler(epoch, lr):\n",
        "  tf.print(f'learning_rate: {lr:.5f}')\n",
        "  # 첫 5 에포크 동안 유지\n",
        "  if epoch < 5:\n",
        "    return lr\n",
        "  else:\n",
        "    # 학습률 감소 적용\n",
        "    return lr * tf.math.exp(-0.1)\n",
        "\n",
        "# 콜백 객체생성 및 scheduler 함수 적용\n",
        "lr_scheduler = tf.keras.callbacks.LearningRateScheduler(scheduler)\n"
      ],
      "metadata": {
        "id": "EW-MGwGzqodO"
      },
      "execution_count": 52,
      "outputs": []
    },
    {
      "cell_type": "code",
      "source": [
        "# 초기 학습률 확인\n",
        "model.compile(loss=\"mse\", optimizer=keras.optimizers.SGD(learning_rate = 1e-3))\n",
        "print(round(model.optimizer.lr.numpy(), 5))\n"
      ],
      "metadata": {
        "colab": {
          "base_uri": "https://localhost:8080/"
        },
        "id": "owzjDaw2qoa7",
        "outputId": "e98548b6-ba1a-4c52-baf7-fae4ae35d327"
      },
      "execution_count": 54,
      "outputs": [
        {
          "output_type": "stream",
          "name": "stdout",
          "text": [
            "0.001\n"
          ]
        }
      ]
    },
    {
      "cell_type": "code",
      "source": [
        "# 콜 백 설정 후 학습\n",
        "history = model.fit(X_train, y_train, epochs=100,\n",
        "    validation_data=(X_valid, y_valid),\n",
        "    callbacks=[lr_scheduler])\n",
        "\n",
        "# 최종 학습률 스케줄러 확인\n",
        "round(model.optimizer.lr.numpy(), 5)\n"
      ],
      "metadata": {
        "id": "X0Jpmz7PqoYi"
      },
      "execution_count": null,
      "outputs": []
    },
    {
      "cell_type": "markdown",
      "source": [
        "## 사용자 정의 콜 백"
      ],
      "metadata": {
        "id": "4nqzSO_uwmc0"
      }
    },
    {
      "cell_type": "code",
      "source": [
        "#사용자 정의 콜백\n",
        "# epoch 이 끝날 때 val_loss / loss 비율을 출력하도록 하는 함수\n",
        "class PrintValTrainRatioCallback(keras.callbacks.Callback):\n",
        "  def on_epoch_end(self, epoch, logs):\n",
        "    print(\"\\nval/train: {:.2f}\".format(logs[\"val_loss\"] / logs[\"loss\"]))\n",
        "\n",
        "val_train_ratio_cb = PrintValTrainRatioCallback()\n",
        "\n",
        "history = model.fit(X_train, y_train, epochs=1,\n",
        "  validation_data=(X_valid, y_valid),\n",
        "  callbacks=[val_train_ratio_cb])\n"
      ],
      "metadata": {
        "colab": {
          "base_uri": "https://localhost:8080/"
        },
        "id": "P-XghV55qoVt",
        "outputId": "ee8ba28e-fed5-4a19-eb54-f41ec7d38589"
      },
      "execution_count": 56,
      "outputs": [
        {
          "output_type": "stream",
          "name": "stdout",
          "text": [
            "359/363 [============================>.] - ETA: 0s - loss: 0.2657\n",
            "val/train: 1.07\n",
            "363/363 [==============================] - 2s 5ms/step - loss: 0.2649 - val_loss: 0.2825\n"
          ]
        }
      ]
    },
    {
      "cell_type": "markdown",
      "source": [
        "## Tensorboard 를 이용한 시각화"
      ],
      "metadata": {
        "id": "vkgaNQLrykSa"
      }
    },
    {
      "cell_type": "code",
      "source": [
        "# 로그를 저장하기 위한 디렉토리 경로를 설정\n",
        "root_logdir = os.path.join(os.curdir, \"my_logs\")\n",
        "\n",
        "def get_run_logdir():\n",
        "  import time\n",
        "\n",
        "  run_id = time.strftime(\"run_%Y_%m_%d-%H_%M_%S\")\n",
        "\n",
        "  return os.path.join(root_logdir, run_id)\n",
        "\n",
        "run_logdir = get_run_logdir()\n",
        "run_logdir"
      ],
      "metadata": {
        "colab": {
          "base_uri": "https://localhost:8080/",
          "height": 35
        },
        "id": "SWJTG0a5qoTC",
        "outputId": "77f8467d-babf-4da4-fd0a-0a2a61f22927"
      },
      "execution_count": 57,
      "outputs": [
        {
          "output_type": "execute_result",
          "data": {
            "text/plain": [
              "'./my_logs/run_2023_09_15-07_42_56'"
            ],
            "application/vnd.google.colaboratory.intrinsic+json": {
              "type": "string"
            }
          },
          "metadata": {},
          "execution_count": 57
        }
      ]
    },
    {
      "cell_type": "code",
      "source": [
        "# tensorboard 활용\n",
        "\n",
        "keras.backend.clear_session()\n",
        "np.random.seed(42)\n",
        "tf.random.set_seed(42)\n",
        "\n",
        "model = keras.models.Sequential([\n",
        "  keras.layers.Dense(30, activation=\"relu\", input_shape=[8]),\n",
        "  keras.layers.Dense(30, activation=\"relu\"),\n",
        "  keras.layers.Dense(1)\n",
        "])\n",
        "\n",
        "model.compile(loss=\"mse\", optimizer=keras.optimizers.SGD(learning_rate = 1e-3))\n",
        "\n",
        "# 텐서보드 저장 - validation 등 훈련 정보를 기록\n",
        "tensorboard_cb = keras.callbacks.TensorBoard(run_logdir)\n",
        "\n",
        "history = model.fit(X_train, y_train, epochs=30,\n",
        "  validation_data=(X_valid, y_valid),\n",
        "  callbacks=[checkpoint_cb, tensorboard_cb])\n"
      ],
      "metadata": {
        "id": "jXy_ombiqoQa"
      },
      "execution_count": null,
      "outputs": []
    },
    {
      "cell_type": "markdown",
      "source": [
        "### 텐서보드 실행"
      ],
      "metadata": {
        "id": "kMcJRMpizuOj"
      }
    },
    {
      "cell_type": "code",
      "source": [
        "%load_ext tensorboard\n",
        "%tensorboard --logdir=./my_logs --port=6006"
      ],
      "metadata": {
        "id": "VsV_0ztFqoNo"
      },
      "execution_count": null,
      "outputs": []
    },
    {
      "cell_type": "markdown",
      "source": [
        "# 신경망 하이퍼 파라미터 튜닝"
      ],
      "metadata": {
        "id": "WaXS4lL_0koD"
      }
    },
    {
      "cell_type": "markdown",
      "source": [
        "## 함수 생성"
      ],
      "metadata": {
        "id": "HeopcQ900m1O"
      }
    },
    {
      "cell_type": "code",
      "source": [
        "keras.backend.clear_session()\n",
        "np.random.seed(42)\n",
        "tf.random.set_seed(42)\n",
        "\n",
        "# keras 모델을 만들고 컴파일 하는 함수\n",
        "def build_model(n_hidden=1, n_neurons=30, learning_rate=3e-3, input_shape=[8]):\n",
        "  model = keras.models.Sequential()\n",
        "  model.add(keras.layers.InputLayer(input_shape=input_shape))\n",
        "\n",
        "  for layer in range(n_hidden):\n",
        "    model.add(keras.layers.Dense(n_neurons, activation=\"relu\"))\n",
        "\n",
        "  model.add(keras.layers.Dense(1))\n",
        "\n",
        "  optimizer = keras.optimizers.SGD(lr=learning_rate)\n",
        "\n",
        "  model.compile(loss=\"mse\", optimizer=optimizer)\n",
        "\n",
        "  return model\n"
      ],
      "metadata": {
        "id": "adEOVsJOz0cJ"
      },
      "execution_count": 61,
      "outputs": []
    },
    {
      "cell_type": "markdown",
      "source": [
        "## 객체 생성"
      ],
      "metadata": {
        "id": "4F9kIRbE1Cee"
      }
    },
    {
      "cell_type": "code",
      "source": [
        "# 더 이상 tensorflow 에서 sklearn 의 warpper 를 제공하지 않으므로\n",
        "# 사용하려면 scikeras 패키지를 이용해야 함\n",
        "\n",
        "# 패키지 설치 필요\n",
        "!pip install scikeras\n",
        "\n",
        "from scikeras.wrappers import KerasRegressor\n",
        "\n",
        "keras_reg = KerasRegressor(build_model())"
      ],
      "metadata": {
        "colab": {
          "base_uri": "https://localhost:8080/"
        },
        "id": "N7bpJ_tAz0j-",
        "outputId": "66ba8a2e-2aeb-4778-df10-4e19981e9cbe"
      },
      "execution_count": 62,
      "outputs": [
        {
          "output_type": "stream",
          "name": "stdout",
          "text": [
            "Collecting scikeras\n",
            "  Downloading scikeras-0.11.0-py3-none-any.whl (27 kB)\n",
            "Requirement already satisfied: packaging>=0.21 in /usr/local/lib/python3.10/dist-packages (from scikeras) (23.1)\n",
            "Requirement already satisfied: scikit-learn>=1.0.0 in /usr/local/lib/python3.10/dist-packages (from scikeras) (1.2.2)\n",
            "Requirement already satisfied: numpy>=1.17.3 in /usr/local/lib/python3.10/dist-packages (from scikit-learn>=1.0.0->scikeras) (1.23.5)\n",
            "Requirement already satisfied: scipy>=1.3.2 in /usr/local/lib/python3.10/dist-packages (from scikit-learn>=1.0.0->scikeras) (1.11.2)\n",
            "Requirement already satisfied: joblib>=1.1.1 in /usr/local/lib/python3.10/dist-packages (from scikit-learn>=1.0.0->scikeras) (1.3.2)\n",
            "Requirement already satisfied: threadpoolctl>=2.0.0 in /usr/local/lib/python3.10/dist-packages (from scikit-learn>=1.0.0->scikeras) (3.2.0)\n",
            "Installing collected packages: scikeras\n",
            "Successfully installed scikeras-0.11.0\n"
          ]
        },
        {
          "output_type": "stream",
          "name": "stderr",
          "text": [
            "WARNING:absl:`lr` is deprecated in Keras optimizer, please use `learning_rate` or use the legacy optimizer, e.g.,tf.keras.optimizers.legacy.SGD.\n"
          ]
        }
      ]
    }
  ]
}